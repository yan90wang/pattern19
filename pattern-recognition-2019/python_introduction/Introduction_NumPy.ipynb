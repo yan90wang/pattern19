{
 "cells": [
  {
   "cell_type": "markdown",
   "metadata": {},
   "source": [
    "# Introduction to NumPy\n",
    "\n",
    "In this notebook, we are having a look at the basic functionalities of __numpy__ and __matplotlib__, two useful python libraries which we are going to use throughout the whole course."
   ]
  },
  {
   "cell_type": "code",
   "execution_count": 158,
   "metadata": {},
   "outputs": [],
   "source": [
    "import numpy as np\n",
    "import matplotlib.pyplot as plt\n",
    "import time"
   ]
  },
  {
   "cell_type": "markdown",
   "metadata": {},
   "source": [
    "# NumPy\n",
    "\n",
    "NumPy is the fundamental package for scientific computing with Python. We will be using the `array` datatype from NumPy, which is a powerful N-dimensional object. By embedding our data into the NumPy data `array` we can make use of its powerful linear algebra functionality."
   ]
  },
  {
   "cell_type": "markdown",
   "metadata": {},
   "source": [
    "## Arrays ... and matrices\n",
    "\n",
    "A NumPy array is a grid of values (all of the same type, i.e. int, float, str). The array is indexed by a touple of nonnegative integers. The array `ndim` (matrix rank) is the dimensions of the array and the `shape` is a tuple of integers giving the size of the array along each dimension. `np.array` is used to create a object of the type `np.ndarray`.\n",
    "\n",
    "The `matrix` class in NumPy is a subclass of `ndarray`. It is **NOT** recommended to use this class anymore. Instead use a `ndarray` from the `np.array` class. "
   ]
  },
  {
   "cell_type": "code",
   "execution_count": 159,
   "metadata": {},
   "outputs": [
    {
     "name": "stdout",
     "output_type": "stream",
     "text": [
      "(2, 2)\n",
      "2\n"
     ]
    },
    {
     "data": {
      "text/plain": [
       "array([[1, 2],\n",
       "       [3, 4]])"
      ]
     },
     "execution_count": 159,
     "metadata": {},
     "output_type": "execute_result"
    }
   ],
   "source": [
    "a = np.array([[1, 2], [3, 4]])\n",
    "print(a.shape)\n",
    "print(a.ndim)\n",
    "a"
   ]
  },
  {
   "cell_type": "markdown",
   "metadata": {},
   "source": [
    "### ATTENTION!!!\n",
    "The multiplication operator `*` in NumPy performs an elemt-wise multiplication."
   ]
  },
  {
   "cell_type": "code",
   "execution_count": 160,
   "metadata": {},
   "outputs": [
    {
     "data": {
      "text/plain": [
       "array([[ 1,  4],\n",
       "       [ 9, 16]])"
      ]
     },
     "execution_count": 160,
     "metadata": {},
     "output_type": "execute_result"
    }
   ],
   "source": [
    "a*a"
   ]
  },
  {
   "cell_type": "raw",
   "metadata": {},
   "source": [
    "Alternatively you can use the multiply function of NumPy"
   ]
  },
  {
   "cell_type": "code",
   "execution_count": 161,
   "metadata": {},
   "outputs": [
    {
     "data": {
      "text/plain": [
       "array([[ 1,  4],\n",
       "       [ 9, 16]])"
      ]
     },
     "execution_count": 161,
     "metadata": {},
     "output_type": "execute_result"
    }
   ],
   "source": [
    "np.multiply(a,a)"
   ]
  },
  {
   "cell_type": "markdown",
   "metadata": {},
   "source": [
    "Arrays of different dimensions can therefore NOT be multiplied."
   ]
  },
  {
   "cell_type": "code",
   "execution_count": 163,
   "metadata": {},
   "outputs": [
    {
     "ename": "ValueError",
     "evalue": "operands could not be broadcast together with shapes (2,2) (2,3) ",
     "traceback": [
      "\u001b[0;31m---------------------------------------------------------------------------\u001b[0m",
      "\u001b[0;31mValueError\u001b[0m                                Traceback (most recent call last)",
      "\u001b[0;32m<ipython-input-163-6ce79887742f>\u001b[0m in \u001b[0;36m<module>\u001b[0;34m\u001b[0m\n\u001b[1;32m      1\u001b[0m \u001b[0mb\u001b[0m \u001b[0;34m=\u001b[0m \u001b[0mnp\u001b[0m\u001b[0;34m.\u001b[0m\u001b[0marray\u001b[0m\u001b[0;34m(\u001b[0m\u001b[0;34m[\u001b[0m\u001b[0;34m[\u001b[0m\u001b[0;36m1\u001b[0m\u001b[0;34m,\u001b[0m\u001b[0;36m2\u001b[0m\u001b[0;34m,\u001b[0m\u001b[0;36m3\u001b[0m\u001b[0;34m]\u001b[0m\u001b[0;34m,\u001b[0m\u001b[0;34m[\u001b[0m\u001b[0;36m4\u001b[0m\u001b[0;34m,\u001b[0m\u001b[0;36m5\u001b[0m\u001b[0;34m,\u001b[0m\u001b[0;36m6\u001b[0m\u001b[0;34m]\u001b[0m\u001b[0;34m]\u001b[0m\u001b[0;34m)\u001b[0m\u001b[0;34m\u001b[0m\u001b[0;34m\u001b[0m\u001b[0m\n\u001b[0;32m----> 2\u001b[0;31m \u001b[0ma\u001b[0m\u001b[0;34m*\u001b[0m\u001b[0mb\u001b[0m \u001b[0;31m# Error\u001b[0m\u001b[0;34m\u001b[0m\u001b[0;34m\u001b[0m\u001b[0m\n\u001b[0m",
      "\u001b[0;31mValueError\u001b[0m: operands could not be broadcast together with shapes (2,2) (2,3) "
     ],
     "output_type": "error"
    }
   ],
   "source": [
    "b = np.array([[1,2,3],[4,5,6]])\n",
    "a*b # Error"
   ]
  },
  {
   "cell_type": "markdown",
   "metadata": {},
   "source": [
    "To perform matrix multiplication use `np.matmul` or its syntactic sugar version `@`."
   ]
  },
  {
   "cell_type": "code",
   "execution_count": 164,
   "metadata": {},
   "outputs": [
    {
     "data": {
      "text/plain": [
       "array([[ 9, 12, 15],\n",
       "       [19, 26, 33]])"
      ]
     },
     "execution_count": 164,
     "metadata": {},
     "output_type": "execute_result"
    }
   ],
   "source": [
    "np.matmul(a,b)"
   ]
  },
  {
   "cell_type": "code",
   "execution_count": 165,
   "metadata": {},
   "outputs": [
    {
     "data": {
      "text/plain": [
       "array([[ 9, 12, 15],\n",
       "       [19, 26, 33]])"
      ]
     },
     "execution_count": 165,
     "metadata": {},
     "output_type": "execute_result"
    }
   ],
   "source": [
    "a @ b"
   ]
  },
  {
   "cell_type": "markdown",
   "metadata": {},
   "source": [
    "EXTRA: For 2-D arrays, the `np.dot` operator will do the same as the `np.matmul` operator."
   ]
  },
  {
   "cell_type": "code",
   "execution_count": 166,
   "metadata": {},
   "outputs": [
    {
     "data": {
      "text/plain": [
       "array([[ 9, 12, 15],\n",
       "       [19, 26, 33]])"
      ]
     },
     "execution_count": 166,
     "metadata": {},
     "output_type": "execute_result"
    }
   ],
   "source": [
    "np.dot(a,b)"
   ]
  },
  {
   "cell_type": "code",
   "execution_count": 167,
   "metadata": {},
   "outputs": [],
   "source": [
    "v1 = np.array([1,2,3])\n",
    "v2 = np.array([3,2,1])"
   ]
  },
  {
   "cell_type": "markdown",
   "metadata": {},
   "source": [
    "Just as for matrixes, the multiplication operator does element-wise multiplication."
   ]
  },
  {
   "cell_type": "code",
   "execution_count": 168,
   "metadata": {},
   "outputs": [
    {
     "data": {
      "text/plain": [
       "array([3, 4, 3])"
      ]
     },
     "execution_count": 168,
     "metadata": {},
     "output_type": "execute_result"
    }
   ],
   "source": [
    "v1 * v2"
   ]
  },
  {
   "cell_type": "markdown",
   "metadata": {},
   "source": [
    "For the inner product, use the `dot` operator"
   ]
  },
  {
   "cell_type": "code",
   "execution_count": 169,
   "metadata": {},
   "outputs": [
    {
     "data": {
      "text/plain": [
       "10"
      ]
     },
     "execution_count": 169,
     "metadata": {},
     "output_type": "execute_result"
    }
   ],
   "source": [
    "np.dot(v1, v2)"
   ]
  },
  {
   "cell_type": "markdown",
   "metadata": {},
   "source": [
    "Note the dimension of a vector is (2,)"
   ]
  },
  {
   "cell_type": "code",
   "execution_count": 170,
   "metadata": {},
   "outputs": [
    {
     "data": {
      "text/plain": [
       "(3,)"
      ]
     },
     "execution_count": 170,
     "metadata": {},
     "output_type": "execute_result"
    }
   ],
   "source": [
    "v1.shape"
   ]
  },
  {
   "cell_type": "markdown",
   "metadata": {},
   "source": [
    "For some applications you will need to also have the second dimension (1) of the vector, this can easily be fixed"
   ]
  },
  {
   "cell_type": "code",
   "execution_count": 171,
   "metadata": {},
   "outputs": [
    {
     "data": {
      "text/plain": [
       "(3, 1)"
      ]
     },
     "execution_count": 171,
     "metadata": {},
     "output_type": "execute_result"
    }
   ],
   "source": [
    "v1_ = v1[:,None]\n",
    "v1_.shape"
   ]
  },
  {
   "cell_type": "markdown",
   "metadata": {},
   "source": [
    "Or alternatively reshape the vector"
   ]
  },
  {
   "cell_type": "code",
   "execution_count": 172,
   "metadata": {},
   "outputs": [
    {
     "data": {
      "text/plain": [
       "(3, 1)"
      ]
     },
     "execution_count": 172,
     "metadata": {},
     "output_type": "execute_result"
    }
   ],
   "source": [
    "v1__ = v1.reshape(v1.shape[0], 1)\n",
    "v1__.shape"
   ]
  },
  {
   "cell_type": "markdown",
   "metadata": {},
   "source": [
    "To create arrays of a certain size, we can initialize with `np.zeros` or `np.ones`."
   ]
  },
  {
   "cell_type": "code",
   "execution_count": 173,
   "metadata": {},
   "outputs": [
    {
     "name": "stdout",
     "output_type": "stream",
     "text": [
      "(2, 3)\n"
     ]
    },
    {
     "data": {
      "text/plain": [
       "array([[0., 0., 0.],\n",
       "       [0., 0., 0.]])"
      ]
     },
     "execution_count": 173,
     "metadata": {},
     "output_type": "execute_result"
    }
   ],
   "source": [
    "z = np.zeros((2,3))\n",
    "print(z.shape)\n",
    "z"
   ]
  },
  {
   "cell_type": "markdown",
   "metadata": {},
   "source": [
    "Be aware that in contrary to matlab, np.zeros(n) gives you a vector instead of a matrix. If you want an $(n \\times n)$-matrix, you have to type np.zeros((n, n))."
   ]
  },
  {
   "cell_type": "code",
   "execution_count": 174,
   "metadata": {},
   "outputs": [
    {
     "name": "stdout",
     "output_type": "stream",
     "text": [
      "(4,)\n",
      "[0. 0. 0. 0.]\n",
      "(4, 1)\n",
      "[[0.]\n",
      " [0.]\n",
      " [0.]\n",
      " [0.]]\n"
     ]
    }
   ],
   "source": [
    "zv = np.zeros(4)\n",
    "print(zv.shape)\n",
    "print(zv)\n",
    "zv = zv[:,None]\n",
    "print(zv.shape)\n",
    "print(zv)"
   ]
  },
  {
   "cell_type": "markdown",
   "metadata": {},
   "source": [
    "You can extract entries, rows or columns from both arrays and matrices by using the :-notation, similar to matlab. **Remark that python counts from 0, not from 1!**. Moreover, the index after the dot is not taken anymore.\n",
    "\n",
    " You can access the last row or column by the index -1. Moreover, R[i, :] and R[:, j] delivers you an (n,)-vector if R is of type array. For matrices, it delivers an (1, n) resp. and (n, 1)-matrix."
   ]
  },
  {
   "cell_type": "code",
   "execution_count": 175,
   "metadata": {},
   "outputs": [
    {
     "name": "stdout",
     "output_type": "stream",
     "text": [
      "(5, 5)\n"
     ]
    },
    {
     "data": {
      "text/plain": [
       "array([[ 1.,  2.,  3.,  4.,  5.],\n",
       "       [ 6.,  7.,  8.,  9., 10.],\n",
       "       [11., 12., 13., 14., 15.],\n",
       "       [16., 17., 18., 19., 20.],\n",
       "       [21., 22., 23., 24., 25.]])"
      ]
     },
     "execution_count": 175,
     "metadata": {},
     "output_type": "execute_result"
    }
   ],
   "source": [
    "# Initialize an array with values from 1 to n\n",
    "nums = 25\n",
    "r = 5\n",
    "d = np.linspace(1, nums, num=nums)\n",
    "d = d.reshape((r,int(nums/r)))\n",
    "print(d.shape)\n",
    "d"
   ]
  },
  {
   "cell_type": "code",
   "execution_count": 176,
   "metadata": {},
   "outputs": [
    {
     "name": "stdout",
     "output_type": "stream",
     "text": [
      "(3, 3)\n"
     ]
    },
    {
     "data": {
      "text/plain": [
       "array([[ 7.,  8.,  9.],\n",
       "       [12., 13., 14.],\n",
       "       [17., 18., 19.]])"
      ]
     },
     "execution_count": 176,
     "metadata": {},
     "output_type": "execute_result"
    }
   ],
   "source": [
    "# Matlab Notation for extracting the central 3x3 matrix out of a 5x5 matrix:\n",
    "# A = np.zeros(5)\n",
    "# A = A(2:4, 2:4)\n",
    "#\n",
    "# Python Notation:\n",
    "Z = d[1:4, 1:4]\n",
    "print(Z.shape)\n",
    "Z"
   ]
  },
  {
   "cell_type": "markdown",
   "metadata": {},
   "source": [
    "### Reshaping\n",
    "\n",
    "Some functions can not evaluate data given as matrices. For example, if you want to optimize a function after a matrix with scipy.optimize, the matrix must be reshaped into an (n,)-vector in order to run the optimization. Another application of reshaping is displaying images. This can easily be done by np.reshape. __BUT__: the dimensions must somehow agree!"
   ]
  },
  {
   "cell_type": "code",
   "execution_count": 177,
   "metadata": {},
   "outputs": [
    {
     "name": "stdout",
     "output_type": "stream",
     "text": [
      "[[ 1.  2.  3.  4.  5.]\n",
      " [ 6.  7.  8.  9. 10.]\n",
      " [11. 12. 13. 14. 15.]\n",
      " [16. 17. 18. 19. 20.]\n",
      " [21. 22. 23. 24. 25.]]\n",
      "[ 1.  2.  3.  4.  5.  6.  7.  8.  9. 10. 11. 12. 13. 14. 15. 16. 17. 18.\n",
      " 19. 20. 21. 22. 23. 24. 25.]\n",
      "(25,)\n"
     ]
    },
    {
     "data": {
      "text/plain": [
       "array([[ 1.,  2.,  3.,  4.,  5.],\n",
       "       [ 6.,  7.,  8.,  9., 10.],\n",
       "       [11., 12., 13., 14., 15.],\n",
       "       [16., 17., 18., 19., 20.],\n",
       "       [21., 22., 23., 24., 25.]])"
      ]
     },
     "execution_count": 177,
     "metadata": {},
     "output_type": "execute_result"
    }
   ],
   "source": [
    "print(d)\n",
    "d_vec = np.reshape(np.array(d), (d.size,))\n",
    "print(d_vec)\n",
    "print(np.shape(d_vec))\n",
    "dim = int(np.sqrt(np.shape(d_vec)[0]))\n",
    "np.reshape(d_vec, (dim, dim))"
   ]
  },
  {
   "cell_type": "code",
   "execution_count": 178,
   "metadata": {},
   "outputs": [
    {
     "name": "stdout",
     "output_type": "stream",
     "text": [
      "[ 1.  2.  3.  4.  5.  6.  7.  8.  9. 10. 11. 12. 13. 14. 15. 16. 17. 18.\n",
      " 19. 20. 21. 22. 23. 24. 25.]\n",
      "(25,)\n"
     ]
    }
   ],
   "source": [
    "d_vec = np.reshape(d, (d.size,))\n",
    "print(d_vec)\n",
    "print(np.shape(d_vec))"
   ]
  },
  {
   "cell_type": "markdown",
   "metadata": {},
   "source": [
    "### Appending\n",
    "\n",
    "Sometimes, two vectors must be rowed below each other or next to each other. This can be done by np.append. Make sure to save your appended arrays if you still need them! Moreover, the dimensions must, again, agree."
   ]
  },
  {
   "cell_type": "code",
   "execution_count": 179,
   "metadata": {},
   "outputs": [
    {
     "name": "stdout",
     "output_type": "stream",
     "text": [
      "[[1. 1.]\n",
      " [1. 1.]\n",
      " [1. 1.]\n",
      " [0. 0.]\n",
      " [0. 0.]\n",
      " [0. 0.]]\n",
      "[[1. 1. 0. 0.]\n",
      " [1. 1. 0. 0.]\n",
      " [1. 1. 0. 0.]]\n"
     ]
    }
   ],
   "source": [
    "m1 = np.ones((3,2))\n",
    "m2 = np.zeros((3,2))\n",
    "print(np.append(m1, m2, axis=0))\n",
    "print(np.append(m1, m2, axis=1))"
   ]
  },
  {
   "cell_type": "markdown",
   "metadata": {},
   "source": [
    "### Functions Applied to Arrays\n",
    "\n",
    "We will define a very easy function and see what happens if we apply it to arrays.\n",
    "Note the error with a standard datatype such as `list`. To use a list, we would need to loop over each item in the list and apply the function to it."
   ]
  },
  {
   "cell_type": "code",
   "execution_count": 187,
   "metadata": {},
   "outputs": [
    {
     "name": "stdout",
     "output_type": "stream",
     "text": [
      "<class 'numpy.ndarray'>\n",
      "(10,)\n",
      "(1, 10)\n",
      "Input\n",
      "[0 1 2 3 4 5 6 7 8 9]\n",
      "Odd output\n",
      "[ 1  3  5  7  9 11 13 15 17 19]\n",
      "[[ 1  3  5  7  9 11 13 15 17 19]]\n",
      "[[ 1]\n",
      " [ 3]\n",
      " [ 5]\n",
      " [ 7]\n",
      " [ 9]\n",
      " [11]\n",
      " [13]\n",
      " [15]\n",
      " [17]\n",
      " [19]]\n",
      "Using a standard data type in python requires element wise call to the function\n",
      "[1, 3, 5, 7, 9, 11, 13, 15, 17, 19]\n",
      "Error if using standard python data types\n"
     ]
    },
    {
     "ename": "TypeError",
     "evalue": "can only concatenate list (not \"int\") to list",
     "traceback": [
      "\u001b[0;31m---------------------------------------------------------------------------\u001b[0m",
      "\u001b[0;31mTypeError\u001b[0m                                 Traceback (most recent call last)",
      "\u001b[0;32m<ipython-input-187-7dabd4c600c3>\u001b[0m in \u001b[0;36m<module>\u001b[0;34m\u001b[0m\n\u001b[1;32m     22\u001b[0m \u001b[0mprint\u001b[0m\u001b[0;34m(\u001b[0m\u001b[0mtmp\u001b[0m\u001b[0;34m)\u001b[0m\u001b[0;34m\u001b[0m\u001b[0;34m\u001b[0m\u001b[0m\n\u001b[1;32m     23\u001b[0m \u001b[0mprint\u001b[0m\u001b[0;34m(\u001b[0m\u001b[0;34m\"Error if using standard python data types\"\u001b[0m\u001b[0;34m)\u001b[0m\u001b[0;34m\u001b[0m\u001b[0;34m\u001b[0m\u001b[0m\n\u001b[0;32m---> 24\u001b[0;31m \u001b[0mmake_odd\u001b[0m\u001b[0;34m(\u001b[0m\u001b[0mv_std\u001b[0m\u001b[0;34m)\u001b[0m \u001b[0;31m# Error\u001b[0m\u001b[0;34m\u001b[0m\u001b[0;34m\u001b[0m\u001b[0m\n\u001b[0m",
      "\u001b[0;32m<ipython-input-187-7dabd4c600c3>\u001b[0m in \u001b[0;36mmake_odd\u001b[0;34m(x)\u001b[0m\n\u001b[1;32m      1\u001b[0m \u001b[0;32mdef\u001b[0m \u001b[0mmake_odd\u001b[0m\u001b[0;34m(\u001b[0m\u001b[0mx\u001b[0m\u001b[0;34m)\u001b[0m\u001b[0;34m:\u001b[0m\u001b[0;34m\u001b[0m\u001b[0;34m\u001b[0m\u001b[0m\n\u001b[0;32m----> 2\u001b[0;31m     \u001b[0;32mreturn\u001b[0m \u001b[0;36m2\u001b[0m\u001b[0;34m*\u001b[0m\u001b[0mx\u001b[0m \u001b[0;34m+\u001b[0m \u001b[0;36m1\u001b[0m\u001b[0;34m\u001b[0m\u001b[0;34m\u001b[0m\u001b[0m\n\u001b[0m\u001b[1;32m      3\u001b[0m \u001b[0;34m\u001b[0m\u001b[0m\n\u001b[1;32m      4\u001b[0m \u001b[0mv_std\u001b[0m \u001b[0;34m=\u001b[0m \u001b[0;34m[\u001b[0m\u001b[0mi\u001b[0m \u001b[0;32mfor\u001b[0m \u001b[0mi\u001b[0m \u001b[0;32min\u001b[0m \u001b[0mrange\u001b[0m\u001b[0;34m(\u001b[0m\u001b[0;36m10\u001b[0m\u001b[0;34m)\u001b[0m\u001b[0;34m]\u001b[0m\u001b[0;34m\u001b[0m\u001b[0;34m\u001b[0m\u001b[0m\n\u001b[1;32m      5\u001b[0m \u001b[0;34m\u001b[0m\u001b[0m\n",
      "\u001b[0;31mTypeError\u001b[0m: can only concatenate list (not \"int\") to list"
     ],
     "output_type": "error"
    }
   ],
   "source": [
    "def make_odd(x):\n",
    "    return 2*x + 1\n",
    "\n",
    "v_std = [i for i in range(10)]\n",
    "\n",
    "v_col = np.array(v_std)\n",
    "print(type(v_col))\n",
    "print(v_col.shape)\n",
    "v_row = np.reshape(v_col, (1,10))\n",
    "print(v_row.shape)\n",
    "print(\"Input\")\n",
    "print(v_col)\n",
    "print(\"Odd output\")\n",
    "print(make_odd(v_col))\n",
    "print(make_odd(v_row))\n",
    "print(make_odd(np.transpose(v_row)))\n",
    "\n",
    "tmp = []\n",
    "for i in v_std:\n",
    "    tmp.append(make_odd(i))\n",
    "print(\"Using a standard data type in python requires element wise call to the function\")\n",
    "print(tmp)\n",
    "print(\"Error if using standard python data types\")\n",
    "make_odd(v_std) # Error"
   ]
  },
  {
   "cell_type": "markdown",
   "metadata": {},
   "source": [
    "## Time Comparison to for-Loops\n",
    "\n",
    "Assume that we have a data matrix $X$ of shape $(d \\times n)$, i.e. $n$ datapoints of dimension $d$. For some reason, we are interested in the $(d \\times d)$-matrix\n",
    "$$ A = \\sum_{i = 1}^n i^2 \\cdot \\mathbf{x}_i \\mathbf{x}_i^T.$$\n",
    "We are going to calculate it with a for loop and as the matrix product\n",
    "$$ (\\mathbf{x}_1, \\mathbf{x}_2, \\cdots,  \\mathbf{x}_n) \\cdot \\begin{pmatrix}\n",
    "1 &   &   &  \\\\\n",
    "  & 4 &   &  \\\\\n",
    "  &   & \\ddots&\\\\\n",
    "  &   &   & n^2\\\\\n",
    "\\end{pmatrix}\n",
    "\\cdot \\begin{pmatrix}\n",
    "\\mathbf{x}_1^T\\\\\n",
    "\\mathbf{x}_2^T\\\\\n",
    "\\vdots\\\\\n",
    "\\mathbf{x}_n^T\n",
    "\\end{pmatrix}$$\n",
    "\n",
    "Getting the matrix $\\mathbf{x}_i \\mathbf{x}_i^T$ can be achieved by using *np.outer*.\n",
    "\n",
    "We will store the time and later plot it. For matters of simplicity, we will once fix the dimension and once the number of samples."
   ]
  },
  {
   "cell_type": "code",
   "execution_count": 188,
   "metadata": {},
   "outputs": [
    {
     "name": "stdout",
     "output_type": "stream",
     "text": [
      "Mean Error =  2.2791971268920867e-07\n"
     ]
    }
   ],
   "source": [
    "# fixed dimension:\n",
    "d = 20\n",
    "\n",
    "times_for_fixed_d = []\n",
    "times_vec_fixed_d = []\n",
    "err = 0\n",
    "\n",
    "for n in range(20, 1000, 20):\n",
    "    # for loop\n",
    "    X = np.random.random((d, n))\n",
    "    tic = time.process_time()\n",
    "    A_for = np.zeros((d, d))\n",
    "    for i in range(n):\n",
    "        A_for += (i+1)**2 * np.outer(X[:, i], X[:, i])\n",
    "    toc = time.process_time()\n",
    "    times_for_fixed_d.append(toc-tic)\n",
    "    \n",
    "    # matrix-vector product\n",
    "    tic = time.process_time()\n",
    "    D = np.diag(np.arange(1, n+1)**2)\n",
    "    A_vec = np.matmul(X, np.matmul(D, np.transpose(X)))\n",
    "    toc = time.process_time()\n",
    "    times_vec_fixed_d.append(toc-tic)\n",
    "    \n",
    "    err += np.linalg.norm(A_for - A_vec)\n",
    "    \n",
    "# check whether the results are the same\n",
    "print('Mean Error = ', err/49)"
   ]
  },
  {
   "cell_type": "code",
   "execution_count": 189,
   "metadata": {},
   "outputs": [
    {
     "name": "stdout",
     "output_type": "stream",
     "text": [
      "Mean Error =  8.002213682395533e-07\n"
     ]
    }
   ],
   "source": [
    "# fixed dataset size\n",
    "n = 1000\n",
    "\n",
    "times_for_fixed_n = []\n",
    "times_vec_fixed_n = []\n",
    "err = 0\n",
    "\n",
    "for d in range(1, 30):\n",
    "    # for loop\n",
    "    X = np.random.random((d, n))\n",
    "    tic = time.process_time()\n",
    "    A_for = np.zeros((d, d))\n",
    "    for i in range(n):\n",
    "        A_for += (i+1)**2 * np.outer(X[:, i], X[:, i])\n",
    "    toc = time.process_time()\n",
    "    times_for_fixed_n.append(toc-tic)\n",
    "    \n",
    "    # matrix-vector product\n",
    "    tic = time.process_time()\n",
    "    D = np.diag(np.arange(1, n+1)**2)\n",
    "    A_vec = np.matmul(X, np.matmul(D, np.transpose(X)))\n",
    "    toc = time.process_time()\n",
    "    times_vec_fixed_n.append(toc-tic)\n",
    "    \n",
    "    err += np.linalg.norm(A_for - A_vec)\n",
    "    \n",
    "# check wheter the results are the same\n",
    "print('Mean Error = ', err/29)"
   ]
  },
  {
   "cell_type": "markdown",
   "metadata": {},
   "source": [
    "We are going to consider them below in a plot.\n",
    "\n",
    "## Plotting\n",
    "\n",
    "We will create a basic matplotlib plot by comparing the times used for both methods before."
   ]
  },
  {
   "cell_type": "code",
   "execution_count": 190,
   "metadata": {},
   "outputs": [
    {
     "data": {
      "image/png": "[encoded data removed]",
      "text/plain": [
       "<Figure size 432x288 with 1 Axes>"
      ]
     },
     "metadata": {
      "needs_background": "light"
     },
     "output_type": "display_data"
    }
   ],
   "source": [
    "x_fixed_d = [n for n in range(20, 1000, 20)]\n",
    "plt.plot(x_fixed_d, times_for_fixed_d, 'r-x')\n",
    "plt.plot(x_fixed_d, times_vec_fixed_d, 'b-+')\n",
    "plt.title('Fixed Dimension')\n",
    "plt.legend(['For-Loop', 'Matrix-Vector Product'], loc='upper left')\n",
    "plt.show()"
   ]
  },
  {
   "cell_type": "code",
   "execution_count": 191,
   "metadata": {},
   "outputs": [
    {
     "data": {
      "image/png": "[encoded data removed]",
      "text/plain": [
       "<Figure size 432x288 with 1 Axes>"
      ]
     },
     "metadata": {
      "needs_background": "light"
     },
     "output_type": "display_data"
    }
   ],
   "source": [
    "x_fixed_n = [d for d in range(1, 30)]\n",
    "plt.plot(x_fixed_n, times_for_fixed_n, 'y-*')\n",
    "plt.plot(x_fixed_n, times_vec_fixed_n, 'g-o')\n",
    "plt.title('Fixed Size of the Data Set')\n",
    "plt.legend(['For-Loop', 'Matrix-Vector Product'], loc='upper left')\n",
    "plt.show()"
   ]
  },
  {
   "cell_type": "markdown",
   "metadata": {},
   "source": [
    "**Note that this was only one loop. In case of two or even more nested loops, the computational load using for-loops will grow even faster!**.\n",
    "\n",
    "### Displaying Images\n",
    "\n",
    "When displaying images, it important to specify how an image is structured. If we want to print an image that is given in greyscale, we have to specify this over the cmap. The block below generates a chess board and plots it. Remark that there are different ways of displaying an image two \"obviously\" identical cmaps do not have to be identical! Do you spot the difference between the cmaps 'Greys' and 'gray'?"
   ]
  },
  {
   "cell_type": "code",
   "execution_count": 192,
   "metadata": {},
   "outputs": [
    {
     "data": {
      "image/png": "[encoded data removed]",
      "text/plain": [
       "<Figure size 432x288 with 3 Axes>"
      ]
     },
     "metadata": {
      "needs_background": "light"
     },
     "output_type": "display_data"
    }
   ],
   "source": [
    "img = np.ones((256, 256))\n",
    "for i in range(256):\n",
    "    for j in range(256):\n",
    "        if (i//32)%2 == (j//32)%2:\n",
    "            img[i, j] = 0\n",
    "\n",
    "plt.subplot(1, 3, 1)\n",
    "plt.imshow(img, cmap='Greys')\n",
    "plt.axis('off')\n",
    "plt.subplot(1, 3, 2)\n",
    "plt.imshow(img, cmap='gray')\n",
    "plt.axis('off')\n",
    "plt.subplot(1, 3, 3)\n",
    "plt.imshow(img, cmap='plasma')\n",
    "plt.axis('off')\n",
    "plt.show()"
   ]
  },
  {
   "cell_type": "markdown",
   "metadata": {},
   "source": [
    "If we want an image that is coloured, we have to speficy this in a 3-dimensional array representing the three colours red, green and blue. The block below generates an image consisting of alterning colour columns. Note that we do not have to specify a colourmap below."
   ]
  },
  {
   "cell_type": "code",
   "execution_count": 193,
   "metadata": {},
   "outputs": [
    {
     "data": {
      "image/png": "[encoded data removed]",
      "text/plain": [
       "<Figure size 432x288 with 1 Axes>"
      ]
     },
     "metadata": {
      "needs_background": "light"
     },
     "output_type": "display_data"
    }
   ],
   "source": [
    "imgc = np.zeros((288, 288, 3))\n",
    "\n",
    "for j in range(288):\n",
    "    imgc[:, j, (j//32)%3] = 1\n",
    "\n",
    "plt.imshow(imgc)\n",
    "plt.show()"
   ]
  },
  {
   "cell_type": "markdown",
   "metadata": {},
   "source": [
    "### Example help for exercise 2\n",
    "In the exercises we will often work with objects instanciated from a class. A *Gaussian Mixture Model* is simply a list of *Multivariate normal distributions* as shown in the example below:"
   ]
  },
  {
   "cell_type": "code",
   "execution_count": 194,
   "metadata": {},
   "outputs": [],
   "source": [
    "class MVND:\n",
    "    def __init__(self, name, data, p=1.0):\n",
    "        self.name = name\n",
    "        self.p = p\n",
    "        self.data = data\n",
    "        self.sum = np.sum(data)\n",
    "        \n",
    "    def prettyPrintString(self):\n",
    "        print('MVND with name {} has sum: {}'.format(self.name, self.sum))"
   ]
  },
  {
   "cell_type": "code",
   "execution_count": 195,
   "metadata": {},
   "outputs": [
    {
     "name": "stdout",
     "output_type": "stream",
     "text": [
      "MyMVND1 6\n",
      "MyMVND2 12\n",
      "MVND with name MyMVND1 has sum: 6\n",
      "MVND with name MyMVND2 has sum: 12\n"
     ]
    }
   ],
   "source": [
    "# create a list of objects\n",
    "gmms = []\n",
    "gmms.append(MVND('MyMVND1', [1,2,3]))\n",
    "gmms.append(MVND('MyMVND2', [3,4,5]))\n",
    "for gmm in gmms:\n",
    "    print(gmm.name, gmm.sum)\n",
    "    \n",
    "for gmm in gmms:\n",
    "    gmm.prettyPrintString()"
   ]
  }
 ],
 "metadata": {
  "kernelspec": {
   "display_name": "Python 3",
   "language": "python",
   "name": "python3"
  },
  "language_info": {
   "codemirror_mode": {
    "name": "ipython",
    "version": 3
   },
   "file_extension": ".py",
   "mimetype": "text/x-python",
   "name": "python",
   "nbconvert_exporter": "python",
   "pygments_lexer": "ipython3",
   "version": "3.7.3"
  }
 },
 "nbformat": 4,
 "nbformat_minor": 2
}
