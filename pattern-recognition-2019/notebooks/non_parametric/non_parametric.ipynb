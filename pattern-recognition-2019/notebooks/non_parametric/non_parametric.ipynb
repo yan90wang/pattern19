{
 "cells": [
  {
   "cell_type": "markdown",
   "metadata": {},
   "source": [
    "# Non-parametric Methods\n",
    "\n",
    "In this Notebook, we are going to consider some methods of classification which are non-parametric. This means that we do not assume the data to behave like a normal distribution. The density estimation is based only on our observations."
   ]
  },
  {
   "cell_type": "code",
   "execution_count": 1,
   "metadata": {},
   "outputs": [],
   "source": [
    "import numpy as np\n",
    "import matplotlib.pyplot as plt\n",
    "from histogram import Bin, Histogram\n",
    "import scipy.stats as stats\n",
    "import csv\n",
    "import math"
   ]
  },
  {
   "cell_type": "markdown",
   "metadata": {},
   "source": [
    "## Histogram\n",
    "\n",
    "### 1D Implementation\n",
    "\n",
    "One of the easiest methods to make a probability density estimation is a Histogram. The estimation is calculated by considering the number of data points nearby. In 1D, it is also very easy to implement. We show the basic implementation on a standard normal distribution. Play around with the size of the data set and the number of bins. If you want an appropriate plot, use a data-set size of about 100'000 and at least 50 bins."
   ]
  },
  {
   "cell_type": "code",
   "execution_count": 2,
   "metadata": {},
   "outputs": [],
   "source": [
    "class real_normal_distribution:\n",
    "    def __init__(self, mean, var, length):\n",
    "        self.mean = mean\n",
    "        self.var = var\n",
    "        self.std = math.sqrt(var)\n",
    "        self.length = length\n",
    "    def pdf(self, x):\n",
    "        return stats.norm.pdf(x, loc=self.mean, scale=self.std)\n",
    "    def getData(self):\n",
    "        return np.random.normal(self.mean, self.std, self.length)\n",
    "    \n",
    "class real_gamma_distribution:\n",
    "    def __init__(self, shape, scale, length):\n",
    "        self.shape = shape\n",
    "        self.scale = scale\n",
    "        self.length = length\n",
    "    def pdf(self, x):\n",
    "        return stats.gamma.pdf(x, self.shape, scale=self.scale)\n",
    "    def getData(self):\n",
    "        return np.random.gamma(shape=self.shape, scale=self.scale, size=self.length)"
   ]
  },
  {
   "cell_type": "code",
   "execution_count": 12,
   "metadata": {},
   "outputs": [
    {
     "name": "stdout",
     "output_type": "stream",
     "text": [
      "Enter the number of Bins: 50\n",
      "Enter the size of the training data set: 10000\n"
     ]
    },
    {
     "data": {
      "image/png": "[encoded data removed]",
      "text/plain": [
       "<Figure size 432x288 with 1 Axes>"
      ]
     },
     "metadata": {
      "needs_background": "light"
     },
     "output_type": "display_data"
    }
   ],
   "source": [
    "n_bins = int(input('Enter the number of Bins: '))\n",
    "length = int(input('Enter the size of the training data set: '))\n",
    "\n",
    "# you can also estimate any other distribution around supported by numpy\n",
    "distro = real_gamma_distribution(2.0, 2.0, length)\n",
    "distro = real_normal_distribution(-1.0, 2.0, length)\n",
    "\n",
    "data = distro.getData()\n",
    "\n",
    "data_min = np.min(data)\n",
    "data_max = np.max(data)\n",
    "counter = [0 for j in range(n_bins)]\n",
    "vol = (data_max - data_min)/n_bins\n",
    "boundaries = [data_min + j*vol for j in range(1, n_bins-1)]\n",
    "\n",
    "def get_bin_index(x):\n",
    "    if x < data_min or x > data_max:\n",
    "        return None\n",
    "    \n",
    "    for i in range(len(boundaries)):\n",
    "        if x <= boundaries[i]:\n",
    "            return i\n",
    "    \n",
    "    # x is greater than the last boundary\n",
    "    return -1\n",
    "\n",
    "# train the histogram\n",
    "for i in range(length):\n",
    "    ind = get_bin_index(data[i])\n",
    "    counter[ind] += 1\n",
    "    \n",
    "# calculate the density\n",
    "def p(x):\n",
    "    ind = get_bin_index(x)\n",
    "    if ind is None:\n",
    "        return 0\n",
    "    return (counter[ind] / length) / vol\n",
    "    \n",
    "# visualize the density\n",
    "x = np.reshape(np.linspace(math.floor(data_min), math.ceil(data_max), 1000), (1000, 1))\n",
    "y = np.zeros(np.shape(x))\n",
    "z = np.zeros(np.shape(x))\n",
    "\n",
    "for i in range(1000):\n",
    "    y[i] = p(x[i])\n",
    "    z[i] = distro.pdf(x[i])\n",
    "\n",
    "plt.plot(data, [0]*len(data), 'rx')\n",
    "\n",
    "plt.plot(x, y, x, z)\n",
    "plt.xlabel('x')\n",
    "plt.ylabel('p(x)')\n",
    "plt.legend(['data', 'Histogram', 'Ground-truth distribution'], loc='upper right')\n",
    "plt.show()"
   ]
  },
  {
   "cell_type": "markdown",
   "metadata": {},
   "source": [
    "You can compare the values of the two densities below for any point you want. To get \"good\" data, for the standard normal distribution you should use about 50 bins and a training data set which is large enough. Using a set of size 100'000 gives a quite accurate estimation."
   ]
  },
  {
   "cell_type": "code",
   "execution_count": 15,
   "metadata": {},
   "outputs": [
    {
     "name": "stdout",
     "output_type": "stream",
     "text": [
      "Enter a data point: 5\n",
      "p_hist =  0.10634951314657291\n",
      "p_true =  0.1026062482798735\n"
     ]
    }
   ],
   "source": [
    "point = float(input('Enter a data point: '))\n",
    "\n",
    "print('p_hist = ', p(point))\n",
    "print('p_true = ', distro.pdf(point))"
   ]
  },
  {
   "cell_type": "markdown",
   "metadata": {},
   "source": [
    "We see that the histogram is not the most accurate method of probability estimation.\n",
    "\n",
    "A big advantage of the histogram however is that the probability estimation can be calculated without any knowledge of the original training data which can be thrown away after training: It does not have to be stored since the density is only depending on the counter and the volume of the according bin.\n",
    "\n",
    "In case of multi-dimensional data, the computation time however grows exponentially. Even though a counter can be updated efficiently by using a Hash Table, the size of the hash table is big: If $d$ is the dimension and $B = \\max_\\limits{1 \\leq i \\leq d} N_i$ is the maximum number of bins used, its complexity is $\\mathcal{O}(B^d)$."
   ]
  },
  {
   "cell_type": "markdown",
   "metadata": {},
   "source": [
    "### 2D Example\n",
    "\n",
    "Now, we are going to consider the countour plot of a Histogram in 2D. Note that the variances do necessarily have to be greater than 0 and that the covariance matrix has to be positive semi-definite! If you choose a big number of bins, the computation takes some time. You can play around with the values below."
   ]
  },
  {
   "cell_type": "code",
   "execution_count": 16,
   "metadata": {},
   "outputs": [],
   "source": [
    "mu_x = 0\n",
    "mu_y = 0\n",
    "mu = np.array([mu_x, mu_y])\n",
    "\n",
    "sigma_x = 1\n",
    "assert sigma_x > 0\n",
    "sigma_y = 2\n",
    "assert sigma_y > 0\n",
    "cov_x_y = 0.5\n",
    "cov = np.array([[sigma_x, cov_x_y], [cov_x_y, sigma_y]])\n",
    "assert np.linalg.det(cov) >= 0\n",
    "\n",
    "data_size = int(1e+5)\n",
    "bins_x = 100\n",
    "bins_y = 100"
   ]
  },
  {
   "cell_type": "markdown",
   "metadata": {},
   "source": [
    "Let us show the histogram contour. This might take some time..."
   ]
  },
  {
   "cell_type": "code",
   "execution_count": 17,
   "metadata": {},
   "outputs": [
    {
     "data": {
      "image/png": "[encoded data removed]",
      "text/plain": [
       "<Figure size 432x288 with 1 Axes>"
      ]
     },
     "metadata": {
      "needs_background": "light"
     },
     "output_type": "display_data"
    }
   ],
   "source": [
    "data = np.reshape(np.random.multivariate_normal(mu, cov, data_size), (data_size, 2))\n",
    "hist = Histogram(data, [bins_x, bins_y])\n",
    "\n",
    "# visualize the histogram\n",
    "x = np.linspace(mu_x-3, mu_x+3, 500)\n",
    "y = np.linspace(mu_y-3, mu_y+3, 500)\n",
    "\n",
    "xm, ym = np.meshgrid(x, y)\n",
    "n, m = np.shape(xm)\n",
    "z = np.zeros((n, m))\n",
    "\n",
    "for i in range(n):\n",
    "    for j in range(m):\n",
    "        z[i, j] = hist.p(np.array([xm[i, j], ym[i, j]]))\n",
    "\n",
    "plt.contourf(x, y, z)\n",
    "plt.title('Contour of the 2D Histogram')\n",
    "plt.xlabel('x')\n",
    "plt.ylabel('y')\n",
    "plt.show()"
   ]
  },
  {
   "cell_type": "markdown",
   "metadata": {},
   "source": [
    "### Classification of Data Points with Histograms\n",
    "\n",
    "In the following example, we generate data points of a translated Gamma(2, 2)-distribution and an Exponential(1)-distribution. Using these data points, we train two histograms and use them for the classification of the test data set. Note that the plot below shows the Histogram decision boundary, not the maximum-likelihood density!\n",
    "\n",
    "Feel free to play around with these values. You can also take any other distribution you want, but the labels in the diagram below will not change."
   ]
  },
  {
   "cell_type": "code",
   "execution_count": 18,
   "metadata": {},
   "outputs": [],
   "source": [
    "length = 5000\n",
    "length_test = 100\n",
    "\n",
    "gamma_train = np.reshape(np.random.gamma(2, 1, length), (length, 1))\n",
    "gamma_train += 1\n",
    "gamma_test = np.reshape(np.random.gamma(2, 1, length_test), (length_test, 1))\n",
    "gamma_test += 1\n",
    "exp_train = np.reshape(np.random.exponential(2, length), (length, 1))\n",
    "exp_test = np.reshape(np.random.exponential(2, length_test), (length_test, 1))"
   ]
  },
  {
   "cell_type": "markdown",
   "metadata": {},
   "source": [
    "Also play around with the number of bins that was used!"
   ]
  },
  {
   "cell_type": "code",
   "execution_count": 23,
   "metadata": {},
   "outputs": [
    {
     "name": "stdout",
     "output_type": "stream",
     "text": [
      "Enter the number of bins: 3\n",
      "Classified 136 out of 200 examples correctly.\n",
      "False Gamma:       58\n",
      "False Exponential: 6\n",
      "\n"
     ]
    },
    {
     "data": {
      "image/png": "[encoded data removed]",
      "text/plain": [
       "<Figure size 432x288 with 1 Axes>"
      ]
     },
     "metadata": {
      "needs_background": "light"
     },
     "output_type": "display_data"
    }
   ],
   "source": [
    "n_bins = int(input('Enter the number of bins: '))\n",
    "\n",
    "hist_gamma = Histogram(gamma_train, [n_bins])\n",
    "hist_exp = Histogram(exp_train, [n_bins])\n",
    "\n",
    "# test the classification\n",
    "false_gamma, false_exp, corr = 0, 0, 0\n",
    "for i in range(length_test):\n",
    "    if hist_gamma.p(gamma_test[i, :]) >= hist_exp.p(gamma_test[i, :]):\n",
    "        corr += 1\n",
    "    else:\n",
    "        false_exp += 1\n",
    "    \n",
    "    if hist_gamma.p(exp_test[i, :]) >= hist_exp.p(exp_test[i, :]):\n",
    "        false_gamma += 1\n",
    "    else:\n",
    "        corr += 1\n",
    "\n",
    "print('Classified', corr, 'out of', 2*length_test, 'examples correctly.')\n",
    "print('False Gamma:      ', false_gamma)\n",
    "print('False Exponential:', false_exp)\n",
    "print()\n",
    "\n",
    "# get a contour for the decision boundary\n",
    "def classify_with_histogram(x):\n",
    "    if hist_gamma.p(x) >= hist_exp.p(x):\n",
    "        return 1\n",
    "    else:\n",
    "        return 0\n",
    "\n",
    "# plot the points and the decision boundary\n",
    "x = np.linspace(0, 10, 100)\n",
    "y = np.linspace(0, 2, 100)\n",
    "xm, ym = np.meshgrid(x, y)\n",
    "n, m = np.shape(xm)\n",
    "z = np.zeros((n, m))\n",
    "\n",
    "for j in range(m):\n",
    "    val = classify_with_histogram(np.reshape(xm[0, j], (1, 1)))\n",
    "    for i in range(n):\n",
    "        z[i, j] = val\n",
    "    \n",
    "y_gam = []\n",
    "for i in x:\n",
    "    y_gam.append(hist_gamma.p([i]))\n",
    "        \n",
    "y_exp = []\n",
    "for i in x:\n",
    "    y_exp.append(hist_exp.p([i]))\n",
    "    \n",
    "plt.contourf(x, y, z, alpha=0.1)\n",
    "plt.plot(gamma_test, stats.gamma.pdf(gamma_test, 2, 1), 'yo')\n",
    "plt.plot(exp_test, 2*np.exp(-2*exp_test), 'bs')\n",
    "plt.plot(x, y_gam, 'y')\n",
    "\n",
    "plt.plot(x, y_exp, 'b')\n",
    "\n",
    "plt.xlim((0, 10))\n",
    "plt.legend(['Gamma', 'Exponential', 'gamma_histogram', 'exp_histogram'], loc='upper right')\n",
    "plt.show()"
   ]
  },
  {
   "cell_type": "markdown",
   "metadata": {},
   "source": [
    "## k-Nearest Neighbours\n",
    "\n",
    "In this method, we classify a point alone by the properties of the $k$ nearest training points nearby. The implementation is rather easy, also for multi-dimensional data sets."
   ]
  },
  {
   "cell_type": "code",
   "execution_count": 24,
   "metadata": {},
   "outputs": [],
   "source": [
    "class KNN:\n",
    "    data: []\n",
    "    k: int\n",
    "    n_classes: int\n",
    "\n",
    "    def __init__(self, data, k, n_classes):\n",
    "        self.data = data\n",
    "        self.k = k\n",
    "        self.n_classes = n_classes\n",
    "\n",
    "    def classify(self, x):\n",
    "        # sort the data by distance to x\n",
    "        n, d = np.shape(self.data)\n",
    "        points = []\n",
    "        for i in range(n):\n",
    "            r = 0\n",
    "            for j in range(d-1):\n",
    "                r += (x[j] - self.data[i, j])**2\n",
    "            r = np.sqrt(r)\n",
    "            # append the radius and label\n",
    "            points.append((r, self.data[i, d-1]))\n",
    "\n",
    "        dtype = [('radius', float), ('label', int)]\n",
    "        points = np.array(points, dtype=dtype)\n",
    "        points = np.sort(points, kind='quicksort', order='radius')\n",
    "\n",
    "        # extract the k best labels\n",
    "        counters = [0 for i in range(self.n_classes)]\n",
    "        for i in range(self.k):\n",
    "            counters[points[i][1]] += 1\n",
    "\n",
    "        return np.argmax(np.array(counters))"
   ]
  },
  {
   "cell_type": "markdown",
   "metadata": {},
   "source": [
    "A main difference to the Histogram is that the whole data set is now processed in a single KNN-object. Moreover, we can also process more than one class at the same time, e.g. in the following example, we handle three of them. We are going to use the following data set."
   ]
  },
  {
   "cell_type": "code",
   "execution_count": 25,
   "metadata": {},
   "outputs": [
    {
     "data": {
      "image/png": "[encoded data removed]",
      "text/plain": [
       "<Figure size 432x288 with 1 Axes>"
      ]
     },
     "metadata": {
      "needs_background": "light"
     },
     "output_type": "display_data"
    }
   ],
   "source": [
    "# load the freshly generated data\n",
    "reader = csv.reader(open(\"knn_toy.csv\", \"rt\", encoding=\"utf8\"))\n",
    "data = list(reader)\n",
    "data = np.array(data).astype(float)\n",
    "\n",
    "# find the appropriate classes for visualization\n",
    "ind_0 = np.where(data[:, -1] == 0)[0]\n",
    "ind_1 = np.where(data[:, -1] == 1)[0]\n",
    "ind_2 = np.where(data[:, -1] == 2)[0]\n",
    "\n",
    "data_0 = np.take(data, ind_0, axis=0)\n",
    "data_1 = np.take(data, ind_1, axis=0)\n",
    "data_2 = np.take(data, ind_2, axis=0)\n",
    "\n",
    "# visualize\n",
    "plt.plot(data_0[:, 0], data_0[:, 1], 'bo')\n",
    "plt.plot(data_1[:, 0], data_1[:, 1], 'gs')\n",
    "plt.plot(data_2[:, 0], data_2[:, 1], 'r^')\n",
    "plt.legend(['$\\omega_0$', '$\\omega_1$', '$\\omega_2$'], loc='lower right')\n",
    "plt.show()"
   ]
  },
  {
   "cell_type": "markdown",
   "metadata": {},
   "source": [
    "This Method is quite expensive since for every classification step, the whole data has to be sorted by the distance to the current point. If quicksort is used, a single classification is in the average case as expensive as $\\mathcal{O}(N \\log N)$, but in the worst case even as $\\mathcal{O}(N^2)$. If mergesort is used, also a worst case classification is takes $\\mathcal{O}(N \\log N)$, but in the average case, quicksort is a bit faster.\n",
    "\n",
    "Even though it takes some time to compute the classifications, play around with $k$. Also note that the contour might not plot the boundaries 100 % correctly."
   ]
  },
  {
   "cell_type": "code",
   "execution_count": 29,
   "metadata": {},
   "outputs": [
    {
     "name": "stdout",
     "output_type": "stream",
     "text": [
      "Enter k: 50\n"
     ]
    },
    {
     "data": {
      "image/png": "[encoded data removed]",
      "text/plain": [
       "<Figure size 432x288 with 1 Axes>"
      ]
     },
     "metadata": {
      "needs_background": "light"
     },
     "output_type": "display_data"
    }
   ],
   "source": [
    "k = int(input('Enter k: '))\n",
    "\n",
    "knn = KNN(data, k, 3)        \n",
    "\n",
    "# plot the points and the decision boundary\n",
    "x = np.linspace(-7, 9)\n",
    "y = np.linspace(-5, 5)\n",
    "xm, ym = np.meshgrid(x, y)\n",
    "\n",
    "n, m = np.shape(xm)\n",
    "z = np.zeros((n, m))\n",
    "\n",
    "for i in range(n):\n",
    "    for j in range(m):\n",
    "        z[i, j] = knn.classify(np.array([xm[i, j], ym[i, j]]))\n",
    "\n",
    "plt.contourf(x, y, z, alpha=0.3, levels=[-0.5, 0.5, 1.5, 2.5], colors=('b', 'g', 'r'))\n",
    "plt.plot(data_0[:, 0], data_0[:, 1], 'bo')\n",
    "plt.plot(data_1[:, 0], data_1[:, 1], 'gs')\n",
    "plt.plot(data_2[:, 0], data_2[:, 1], 'r^')\n",
    "plt.legend(['$\\omega_0$', '$\\omega_1$', '$\\omega_2$'], loc='lower right')\n",
    "plt.show()"
   ]
  },
  {
   "cell_type": "markdown",
   "metadata": {},
   "source": [
    "You can now test the classification on your own data points."
   ]
  },
  {
   "cell_type": "code",
   "execution_count": 30,
   "metadata": {},
   "outputs": [
    {
     "name": "stdout",
     "output_type": "stream",
     "text": [
      "Enter x: 5\n",
      "Enter y: 5\n",
      "This point is classified to omega_0\n"
     ]
    }
   ],
   "source": [
    "x = float(input('Enter x: '))\n",
    "y = float(input('Enter y: '))\n",
    "\n",
    "omega = knn.classify(np.array([x, y]))\n",
    "\n",
    "print('This point is classified to omega_'+str(omega))"
   ]
  },
  {
   "cell_type": "markdown",
   "metadata": {},
   "source": [
    "Unlike in the histogram, we do not calculate a probability density here. This could however easily be done by adding a few lines of code to calculated the likelihood\n",
    "\n",
    "$$p(x \\mid \\omega_i) = \\frac{k_i}{n_i \\cdot V},$$\n",
    "\n",
    "where $k_i$ is the number of samples beloning to $\\omega_i$ in $V$ and $n_i$ is the total number of samples belonging to $\\omega_i$. By also taking the prior\n",
    "\n",
    "$$p(\\omega_i) = \\frac{n_i}{N},$$\n",
    "\n",
    "our classification above corresponds to Bayesian classification. "
   ]
  },
  {
   "cell_type": "markdown",
   "metadata": {},
   "source": [
    "## k-Means\n",
    "\n",
    "K-Means clustering is a popular method to partition $n$ observations into $k$ clusters. The only thing we must know in advance is the number of clusters k. \n",
    "\n",
    "We are going to divide a 2D dataset into k clusters."
   ]
  },
  {
   "cell_type": "code",
   "execution_count": 31,
   "metadata": {},
   "outputs": [
    {
     "data": {
      "image/png": "[encoded data removed]",
      "text/plain": [
       "<Figure size 432x288 with 1 Axes>"
      ]
     },
     "metadata": {
      "needs_background": "light"
     },
     "output_type": "display_data"
    }
   ],
   "source": [
    "# load the data\n",
    "colours = ['bo', 'gx', 'r*', 'cv', 'm1', 'y2', 'k3', 'w4']\n",
    "\n",
    "reader = csv.reader(open(\"knn_toy.csv\", \"rt\", encoding=\"utf8\"))\n",
    "data = list(reader)\n",
    "data = np.array(data).astype(float)\n",
    "data[:,2] = 0.0\n",
    "# visualize\n",
    "plt.plot(data[:, 0], data[:, 1], 'y.')\n",
    "plt.show()"
   ]
  },
  {
   "cell_type": "code",
   "execution_count": 32,
   "metadata": {},
   "outputs": [
    {
     "name": "stdout",
     "output_type": "stream",
     "text": [
      "Enter number of clusters: 3\n"
     ]
    }
   ],
   "source": [
    "clusters = int(input('Enter number of clusters: '))"
   ]
  },
  {
   "cell_type": "markdown",
   "metadata": {},
   "source": [
    "Now we randomly take 3 datapoints as the means of the 3 clusters."
   ]
  },
  {
   "cell_type": "code",
   "execution_count": 36,
   "metadata": {},
   "outputs": [
    {
     "data": {
      "image/png": "[encoded data removed]",
      "text/plain": [
       "<Figure size 432x288 with 1 Axes>"
      ]
     },
     "metadata": {
      "needs_background": "light"
     },
     "output_type": "display_data"
    },
    {
     "data": {
      "text/plain": [
       "[array([-2.25981805,  4.33013041]),\n",
       " array([-0.77755452,  3.64217289]),\n",
       " array([-3.64707495, -0.35355698])]"
      ]
     },
     "execution_count": 36,
     "metadata": {},
     "output_type": "execute_result"
    }
   ],
   "source": [
    "means = []\n",
    "for i in range(clusters):\n",
    "    rnd = np.random.randint(data.shape[0])\n",
    "    # Instead of a random value, try taking the K=3 first values by uncommenting the next line\n",
    "#     rnd = i\n",
    "    means.append(data[rnd,0:-1])\n",
    "plt.plot(data[:, 0], data[:, 1], 'y.')\n",
    "for (i, mean) in enumerate(means):\n",
    "    plt.plot(mean[0], mean[1], colours[i], markersize=24)\n",
    "plt.show()\n",
    "means"
   ]
  },
  {
   "cell_type": "markdown",
   "metadata": {},
   "source": [
    "No we need to initializing the $k$ random clusters. This is done by assigning each datapoint to its closest mean value."
   ]
  },
  {
   "cell_type": "code",
   "execution_count": 37,
   "metadata": {},
   "outputs": [
    {
     "data": {
      "image/png": "[encoded data removed]",
      "text/plain": [
       "<Figure size 432x288 with 1 Axes>"
      ]
     },
     "metadata": {
      "needs_background": "light"
     },
     "output_type": "display_data"
    }
   ],
   "source": [
    "def assign_to_cluster(mydata, mymeans):\n",
    "    for i in range(0,mydata.shape[0]):\n",
    "        x = mydata[i,0:-1]\n",
    "        minimumDistance = math.inf\n",
    "        cluster = 0\n",
    "        for (j, mean) in enumerate(mymeans):\n",
    "            distance = np.linalg.norm(x-mean)\n",
    "            if distance < minimumDistance:\n",
    "                cluster = j\n",
    "                minimumDistance = distance\n",
    "        mydata[i,-1] = cluster\n",
    "    return mydata\n",
    "    \n",
    "data = assign_to_cluster(data, means)\n",
    "\n",
    "for i in range(clusters):\n",
    "    index = np.where(data[:, -1] == i)[0]\n",
    "    plt.plot(data[index, 0], data[index, 1], colours[i])"
   ]
  },
  {
   "cell_type": "code",
   "execution_count": 38,
   "metadata": {},
   "outputs": [
    {
     "data": {
      "image/png": "[encoded data removed]",
      "text/plain": [
       "<Figure size 432x288 with 1 Axes>"
      ]
     },
     "metadata": {
      "needs_background": "light"
     },
     "output_type": "display_data"
    }
   ],
   "source": [
    "def update_means(mydata, mymeans):\n",
    "    for i in range(clusters):\n",
    "        d = np.where(mydata[:, -1] == i)[0]\n",
    "        mymeans[i] = np.mean(mydata[d,0:-1], axis=0)\n",
    "    return mymeans\n",
    "\n",
    "means = update_means(data, means)\n",
    "\n",
    "# plt.plot(data[:, 0], data[:, 1], 'y.')\n",
    "for i in range(clusters):\n",
    "    index = np.where(data[:, -1] == i)[0]\n",
    "    plt.plot(data[index, 0], data[index, 1], colours[i])\n",
    "for (i, mean) in enumerate(means):\n",
    "    plt.plot(mean[0], mean[1], 'kX', markersize=24)"
   ]
  },
  {
   "cell_type": "code",
   "execution_count": 46,
   "metadata": {},
   "outputs": [
    {
     "data": {
      "image/png": "[encoded data removed]",
      "text/plain": [
       "<Figure size 432x288 with 1 Axes>"
      ]
     },
     "metadata": {
      "needs_background": "light"
     },
     "output_type": "display_data"
    }
   ],
   "source": [
    "for i in range(1):\n",
    "    data = assign_to_cluster(data, means)\n",
    "    means = update_means(data, means)\n",
    "\n",
    "for i in range(clusters):\n",
    "    index = np.where(data[:, -1] == i)[0]\n",
    "    plt.plot(data[index, 0], data[index, 1], colours[i])\n",
    "for (i, mean) in enumerate(means):\n",
    "    plt.plot(mean[0], mean[1], 'kX', markersize=24)"
   ]
  },
  {
   "cell_type": "markdown",
   "metadata": {},
   "source": [
    "## K-Means relation to Gaussian Mixture Models (GMMs)\n",
    "GMM is referred to as soft clustering, whereas k-means is a hard clustering method with responsible 1 or 0 for each cluster. "
   ]
  }
 ],
 "metadata": {
  "kernelspec": {
   "display_name": "Python 3",
   "language": "python",
   "name": "python3"
  },
  "language_info": {
   "codemirror_mode": {
    "name": "ipython",
    "version": 3
   },
   "file_extension": ".py",
   "mimetype": "text/x-python",
   "name": "python",
   "nbconvert_exporter": "python",
   "pygments_lexer": "ipython3",
   "version": "3.7.4"
  }
 },
 "nbformat": 4,
 "nbformat_minor": 2
}
