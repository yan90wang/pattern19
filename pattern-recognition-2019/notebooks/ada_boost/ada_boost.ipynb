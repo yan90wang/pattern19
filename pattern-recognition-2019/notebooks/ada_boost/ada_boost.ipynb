{
 "cells": [
  {
   "cell_type": "markdown",
   "metadata": {},
   "source": [
    "# Ada-Boost"
   ]
  },
  {
   "cell_type": "markdown",
   "metadata": {},
   "source": [
    "This Notebook implements an Ada-Boost with simple decision stumps which are randomly generated. In ascending order, for every feature, a random decision stump is created. Once every feature is split up into two region, we start from the beginning with the first feature again until the defined number of decision stumps is created."
   ]
  },
  {
   "cell_type": "code",
   "execution_count": 1,
   "metadata": {},
   "outputs": [],
   "source": [
    "from methods import load_data, test_classification, formatize_weather_data\n",
    "from Ada_boost import AdaBoost\n",
    "import matplotlib.pyplot as plt\n",
    "import numpy as np\n",
    "import pandas as pd\n",
    "import time\n",
    "import csv"
   ]
  },
  {
   "cell_type": "markdown",
   "metadata": {},
   "source": [
    "## Toy Dataset"
   ]
  },
  {
   "cell_type": "markdown",
   "metadata": {},
   "source": [
    "We are going to consider the following toy dataset first."
   ]
  },
  {
   "cell_type": "code",
   "execution_count": 2,
   "metadata": {},
   "outputs": [
    {
     "data": {
      "image/png": "[encoded data removed]",
      "text/plain": [
       "<Figure size 432x288 with 1 Axes>"
      ]
     },
     "metadata": {
      "needs_background": "light"
     },
     "output_type": "display_data"
    }
   ],
   "source": [
    "# load_data gives two data sets of two classes\n",
    "data_1, data_2, test_data = load_data()\n",
    "fig = plt.figure()\n",
    "plt.plot(data_1[:, 0], data_1[:, 1], 'go')\n",
    "plt.plot(data_2[:, 0], data_2[:, 1], 'bs')\n",
    "plt.legend(['$\\omega_1$', '$\\omega_2$'])\n",
    "plt.show()"
   ]
  },
  {
   "cell_type": "markdown",
   "metadata": {},
   "source": [
    "To see how to create a decision boundary, an example is shown below. The data is split up into two classes at the beginning. This step would however not be necessary, but it simplifies the demonstration.\n",
    "\n",
    "First, we show how a stump-like decision boundary is trained."
   ]
  },
  {
   "cell_type": "code",
   "execution_count": 3,
   "metadata": {},
   "outputs": [],
   "source": [
    "def train_hypothesis(data_1, data_2, sample_weights_1, sample_weights_2, k_stump, s):\n",
    "    n_1, d = np.shape(data_1)\n",
    "    n_2, d = np.shape(data_2)\n",
    "\n",
    "    hyp_1 = []\n",
    "    hyp_2 = []\n",
    "    eps = 0\n",
    "    \n",
    "    for i in range(n_1):\n",
    "        if data_1[i, s] >= k_stump:\n",
    "            hyp_1.append(1)\n",
    "        else:\n",
    "            # misclassified\n",
    "            hyp_1.append(-1)\n",
    "            eps += sample_weights_1[i]\n",
    "    \n",
    "    for i in range(n_2):\n",
    "        if data_2[i, s] >= k_stump:\n",
    "            # misclassified\n",
    "            hyp_2.append(1)\n",
    "            eps += sample_weights_2[i]\n",
    "        else:\n",
    "            hyp_2.append(-1)\n",
    "            \n",
    "    return hyp_1, hyp_2, eps"
   ]
  },
  {
   "cell_type": "markdown",
   "metadata": {},
   "source": [
    "Updating the sample weights is quite easy."
   ]
  },
  {
   "cell_type": "code",
   "execution_count": 5,
   "metadata": {},
   "outputs": [],
   "source": [
    "def update_sample_weights(sample_weights_1, sample_weights_2, hyp_1, hyp_2, a):\n",
    "    \n",
    "    # forget the y in the formula because for class 1 it's 1, for class 2 it's -1\n",
    "    sample_weights_1 = np.multiply(sample_weights_1, np.exp(-a*np.array(hyp_1)))\n",
    "    sample_weights_2 = np.multiply(sample_weights_2, np.exp(a*np.array(hyp_2)))\n",
    "    \n",
    "    # normalize\n",
    "    Z = np.sum(sample_weights_1) + np.sum(sample_weights_2)\n",
    "    sample_weights_1 /= Z\n",
    "    sample_weights_2 /= Z\n",
    "    \n",
    "    return sample_weights_1, sample_weights_2"
   ]
  },
  {
   "cell_type": "markdown",
   "metadata": {},
   "source": [
    "We can now use these two methods to train two decision stumps: First, we generate a random stump between the maximal and minimal value of our data, train two hypotheses and calculate $\\varepsilon$ using our *train_hypothesis* method, then calculate $\\alpha$ and finally update the sample weights using the aboce *update_sample_weights* method."
   ]
  },
  {
   "cell_type": "code",
   "execution_count": 10,
   "metadata": {},
   "outputs": [
    {
     "name": "stdout",
     "output_type": "stream",
     "text": [
      "Stump number 0\n",
      "Stump:  0.5047395536213967\n",
      "a =  0.13073985002887786\n",
      "eps =  0.4350000000000003\n",
      "Stump number 1\n",
      "Stump:  1.0882117671124114\n",
      "a =  0.6810603791228578\n",
      "eps =  0.20389583969077413\n"
     ]
    }
   ],
   "source": [
    "data = np.append(data_1, data_2, axis=0)\n",
    "n, d = np.shape(data)\n",
    "\n",
    "n_1, d = np.shape(data_1)\n",
    "n_2, d = np.shape(data_2)\n",
    "\n",
    "sample_weights_1 = [1/n for i in range(n_1)]\n",
    "sample_weights_2 = [1/n for i in range(n_2)]\n",
    "bounds = []\n",
    "\n",
    "# here would be: for i in range(number_of_stumps):\n",
    "# the following for loop still is correct, with the adaption that d is not necessarily 2:\n",
    "for s in range(2):\n",
    "    k_min = np.min(data[:, s])\n",
    "    k_max = np.max(data[:, s])\n",
    "    \n",
    "    # generate a random stump in the range of the values\n",
    "    k_stump = k_min + (k_max - k_min)*np.random.random()\n",
    "    \n",
    "    hyp_1, hyp_2, eps = train_hypothesis(data_1, data_2, sample_weights_1, sample_weights_2, k_stump, s)\n",
    "            \n",
    "    # calculate the hypothesis weight a\n",
    "    a = 1/2*np.log((1-eps)/eps)\n",
    "    print('Stump number', s)\n",
    "    print('Stump: ', k_stump)\n",
    "    print('a = ', a)\n",
    "    print('eps = ', eps)\n",
    "    \n",
    "    # store the stump and the weight\n",
    "    bounds.append((k_stump, a))\n",
    "            \n",
    "    # update sample weights\n",
    "    sample_weights_1, sample_weights_2 = update_sample_weights(sample_weights_1, sample_weights_2, hyp_1, hyp_2, a)"
   ]
  },
  {
   "cell_type": "markdown",
   "metadata": {},
   "source": [
    "To plot the decision boundary, we also need to implement a classification function. Note that the decision boundary can be a (horizontal or vertical) but not have a 90° angle! For this, we would need at least one additional two-dimensional stump."
   ]
  },
  {
   "cell_type": "code",
   "execution_count": 11,
   "metadata": {},
   "outputs": [
    {
     "data": {
      "image/png": "[encoded data removed]",
      "text/plain": [
       "<Figure size 432x288 with 1 Axes>"
      ]
     },
     "metadata": {
      "needs_background": "light"
     },
     "output_type": "display_data"
    }
   ],
   "source": [
    "def classify_stump(x):\n",
    "    f = 0\n",
    "    for i in range(2):\n",
    "        k_stump, a = bounds[i]\n",
    "        if x[i] >= k_stump:\n",
    "            f += a\n",
    "        else:\n",
    "            f -= a\n",
    "    \n",
    "    if f >= 0:\n",
    "        return 1\n",
    "    else:\n",
    "        return -1\n",
    "\n",
    "x = np.linspace(-0.1, 1.1)\n",
    "y = np.linspace(-0.1, 1.3)\n",
    "levels = [-1.5, 0.5, 1.5]\n",
    "\n",
    "xm, ym = np.meshgrid(x, y)\n",
    "n, m = np.shape(xm)\n",
    "f = np.zeros((n, m))\n",
    "\n",
    "for i in range(n):\n",
    "    for j in range(m):\n",
    "        f[i, j] = classify_stump(np.array([xm[i, j], ym[i, j]]))\n",
    "\n",
    "plt.contourf(x, y, f, levels, alpha=0.3)\n",
    "plt.plot(data_1[:, 0], data_1[:, 1], 'go')\n",
    "plt.plot(data_2[:, 0], data_2[:, 1], 'bs')\n",
    "plt.show()"
   ]
  },
  {
   "cell_type": "markdown",
   "metadata": {},
   "source": [
    "The following Note should be read and understood!"
   ]
  },
  {
   "cell_type": "markdown",
   "metadata": {},
   "source": [
    "### A Comment on $\\alpha$ and $\\varepsilon$\n",
    "$\\varepsilon$ indicates the ratio of how many of the (weighted) data samples are classified incorrectly. If the ratio is close to 0, almost every example is classified correctly. This results has a very high hypothesis weight since $\\lim\\limits_{\\varepsilon \\to 0} \\frac{1}{2}\\log \\frac{1 - \\varepsilon}{\\varepsilon} = \\infty$. As a consequence, the good hypothesis will dominate the others.\n",
    "\n",
    "On the contrary, if many examples are misclassified, $\\varepsilon$ is close to 1. Therefore, $\\frac{1 - \\varepsilon}{\\varepsilon}$ tends to 0 and $\\alpha = \\frac{1}{2} \\log \\frac{1 - \\varepsilon}{\\varepsilon} \\to - \\infty$.\n",
    "Consequently, because $\\alpha < 0$, the hypothesis is applied inversely and with a very high weight. This means that also such a hypothesis will dominate the other, and the classification will be good as well.\n",
    "\n",
    "Finally, if exactly (weighted) half of the examples are misclassified, $\\varepsilon = 0.5$ and thus $\\alpha = 0$, so this hypotheses is not considered at all."
   ]
  },
  {
   "cell_type": "markdown",
   "metadata": {},
   "source": [
    "### Training of the Ada-Boost with the Toy Example\n",
    "Now we are going to train an Ada-Boost with simple decision stumps. You can enter the number of\n",
    "decision stumps below. We will then test the classification on the test set."
   ]
  },
  {
   "cell_type": "code",
   "execution_count": 12,
   "metadata": {},
   "outputs": [
    {
     "name": "stdout",
     "output_type": "stream",
     "text": [
      "Enter the number of decision stumps: 100\n",
      "Ada-Boost Classified  987 out of  1000 examples correctly.\n",
      "False negative:  6\n",
      "False positive:  7\n",
      "\n"
     ]
    }
   ],
   "source": [
    "number_of_stumps = int(input('Enter the number of decision stumps: '))\n",
    "ada_boost = AdaBoost(data_1, data_2, number_of_stumps)\n",
    "ada_boost.train()\n",
    "\n",
    "t_start = time.process_time()\n",
    "test_classification(ada_boost, test_data)\n",
    "t_end = time.process_time()\n",
    "t_ada = t_end - t_start"
   ]
  },
  {
   "cell_type": "markdown",
   "metadata": {},
   "source": [
    "Now we are going to plot the decision boundary."
   ]
  },
  {
   "cell_type": "code",
   "execution_count": 13,
   "metadata": {},
   "outputs": [
    {
     "data": {
      "image/png": "[encoded data removed]",
      "text/plain": [
       "<Figure size 432x288 with 1 Axes>"
      ]
     },
     "metadata": {
      "needs_background": "light"
     },
     "output_type": "display_data"
    }
   ],
   "source": [
    "x = np.linspace(-0.1, 1.1)\n",
    "y = np.linspace(-0.1, 1.3)\n",
    "levels = [-1.5, 0.5, 1.5]\n",
    "\n",
    "xm, ym = np.meshgrid(x, y)\n",
    "n, m = np.shape(xm)\n",
    "f = np.zeros((n, m))\n",
    "\n",
    "for i in range(n):\n",
    "    for j in range(m):\n",
    "        f[i, j] = ada_boost.classify(np.array([xm[i, j], ym[i, j]]))\n",
    "\n",
    "plt.contourf(x, y, f, levels, alpha=0.3)\n",
    "plt.plot(data_1[:, 0], data_1[:, 1], 'go')\n",
    "plt.plot(data_2[:, 0], data_2[:, 1], 'bs')\n",
    "plt.show()"
   ]
  },
  {
   "cell_type": "markdown",
   "metadata": {},
   "source": [
    "Note that the visual result from looking at that decision boundary might differ from the result that the Ada-Boost delivered. These differences can arise if the grid which is used for the plot is too coarse. Taking a finer grid however takes more time to commpute the contour values."
   ]
  },
  {
   "cell_type": "markdown",
   "metadata": {},
   "source": [
    "### Not separable data\n",
    "If the data is more or less separable, the Ada-Boost performs quite well. Non-separable data however are more challenging, but it still performs quite well."
   ]
  },
  {
   "cell_type": "code",
   "execution_count": 14,
   "metadata": {},
   "outputs": [
    {
     "data": {
      "image/png": "[encoded data removed]",
      "text/plain": [
       "<Figure size 432x288 with 1 Axes>"
      ]
     },
     "metadata": {
      "needs_background": "light"
     },
     "output_type": "display_data"
    }
   ],
   "source": [
    "data_1_mod = data_1.copy()\n",
    "test_data_mod = test_data.copy()\n",
    "\n",
    "# moving the red dots down\n",
    "data_1_mod[:, 1] -= 0.3\n",
    "\n",
    "# also for the test\n",
    "ind_test = np.where(test_data[:, -1] > 0)[0]\n",
    "test_data_mod[ind_test, 1] -= 0.3\n",
    "\n",
    "plt.plot(data_1_mod[:, 0], data_1_mod[:, 1], 'go')\n",
    "plt.plot(data_2[:, 0], data_2[:, 1], 'bs')\n",
    "plt.legend(['$\\omega_1$', '$\\omega_2$'])\n",
    "plt.show()"
   ]
  },
  {
   "cell_type": "code",
   "execution_count": 15,
   "metadata": {},
   "outputs": [
    {
     "name": "stdout",
     "output_type": "stream",
     "text": [
      "Enter the number of stumps: 100\n",
      "Ada-Boost Classified  889 out of  1000 examples correctly.\n",
      "False negative:  44\n",
      "False positive:  67\n",
      "\n"
     ]
    }
   ],
   "source": [
    "number_of_stumps = int(input('Enter the number of stumps: '))\n",
    "ada_boost_mod = AdaBoost(data_1_mod, data_2, number_of_stumps)\n",
    "ada_boost_mod.train()\n",
    "\n",
    "test_classification(ada_boost_mod, test_data_mod)"
   ]
  },
  {
   "cell_type": "code",
   "execution_count": 16,
   "metadata": {},
   "outputs": [
    {
     "data": {
      "image/png": "[encoded data removed]",
      "text/plain": [
       "<Figure size 432x288 with 1 Axes>"
      ]
     },
     "metadata": {
      "needs_background": "light"
     },
     "output_type": "display_data"
    }
   ],
   "source": [
    "for i in range(n):\n",
    "    for j in range(m):\n",
    "        f[i, j] = ada_boost_mod.classify(np.array([xm[i, j], ym[i, j]]))\n",
    "\n",
    "plt.contourf(x, y, f, levels, alpha=0.3)\n",
    "plt.plot(data_1_mod[:, 0], data_1_mod[:, 1], 'go')\n",
    "plt.plot(data_2[:, 0], data_2[:, 1], 'bs')\n",
    "plt.legend(['$\\omega_1$', '$\\omega_2$'])\n",
    "plt.show()"
   ]
  },
  {
   "cell_type": "markdown",
   "metadata": {},
   "source": [
    "## Australia Weather Dataset"
   ]
  },
  {
   "cell_type": "markdown",
   "metadata": {},
   "source": [
    "We are using an adapted and shortened dataset on Australian weather prediction, the full version can be downloaded here:\n",
    "\n",
    "https://togaware.com/the-weatheraus-dataset/\n",
    "\n",
    "The training data of size 10'000 and test data of size 1'000 were taken randomly out of the full data set of size about 157'000, which shrinks to about 128'000 after removing all unseen data.\n",
    "\n",
    "We take the input data below and want to predict whether it is going to rain the next day.\n",
    "\n",
    "Note that the full data set is biased quite heavily. About 78% of all data points share the label 'no rain'. If you want to look at unbiased data, uncomment the two lines below."
   ]
  },
  {
   "cell_type": "code",
   "execution_count": 18,
   "metadata": {},
   "outputs": [
    {
     "data": {
      "text/html": [
       "<div>\n",
       "<style scoped>\n",
       "    .dataframe tbody tr th:only-of-type {\n",
       "        vertical-align: middle;\n",
       "    }\n",
       "\n",
       "    .dataframe tbody tr th {\n",
       "        vertical-align: top;\n",
       "    }\n",
       "\n",
       "    .dataframe thead th {\n",
       "        text-align: right;\n",
       "    }\n",
       "</style>\n",
       "<table border=\"1\" class=\"dataframe\">\n",
       "  <thead>\n",
       "    <tr style=\"text-align: right;\">\n",
       "      <th></th>\n",
       "      <th>0</th>\n",
       "      <th>1</th>\n",
       "      <th>2</th>\n",
       "      <th>3</th>\n",
       "      <th>4</th>\n",
       "      <th>5</th>\n",
       "      <th>6</th>\n",
       "      <th>7</th>\n",
       "      <th>8</th>\n",
       "      <th>9</th>\n",
       "      <th>10</th>\n",
       "      <th>11</th>\n",
       "      <th>12</th>\n",
       "    </tr>\n",
       "  </thead>\n",
       "  <tbody>\n",
       "    <tr>\n",
       "      <td>0</td>\n",
       "      <td>MinTemp</td>\n",
       "      <td>MaxTemp</td>\n",
       "      <td>Rainfall</td>\n",
       "      <td>WindGustSpeed</td>\n",
       "      <td>WindSpeed9am</td>\n",
       "      <td>WindSpeed3pm</td>\n",
       "      <td>Humidity9am</td>\n",
       "      <td>Humidity3pm</td>\n",
       "      <td>Pressure9am</td>\n",
       "      <td>Pressure3pm</td>\n",
       "      <td>Temp9am</td>\n",
       "      <td>Temp3pm</td>\n",
       "      <td>RainTomorrow</td>\n",
       "    </tr>\n",
       "    <tr>\n",
       "      <td>1</td>\n",
       "      <td>8.7</td>\n",
       "      <td>21.7</td>\n",
       "      <td>0</td>\n",
       "      <td>39</td>\n",
       "      <td>17</td>\n",
       "      <td>20</td>\n",
       "      <td>56</td>\n",
       "      <td>35</td>\n",
       "      <td>1025.4</td>\n",
       "      <td>1022.1</td>\n",
       "      <td>14.2</td>\n",
       "      <td>20.4</td>\n",
       "      <td>No</td>\n",
       "    </tr>\n",
       "    <tr>\n",
       "      <td>2</td>\n",
       "      <td>8.9</td>\n",
       "      <td>17.2</td>\n",
       "      <td>9.2</td>\n",
       "      <td>69</td>\n",
       "      <td>31</td>\n",
       "      <td>30</td>\n",
       "      <td>81</td>\n",
       "      <td>50</td>\n",
       "      <td>1008</td>\n",
       "      <td>1005</td>\n",
       "      <td>11.6</td>\n",
       "      <td>15.5</td>\n",
       "      <td>Yes</td>\n",
       "    </tr>\n",
       "    <tr>\n",
       "      <td>3</td>\n",
       "      <td>10.8</td>\n",
       "      <td>20.8</td>\n",
       "      <td>0</td>\n",
       "      <td>33</td>\n",
       "      <td>11</td>\n",
       "      <td>24</td>\n",
       "      <td>67</td>\n",
       "      <td>54</td>\n",
       "      <td>1027.3</td>\n",
       "      <td>1021.1</td>\n",
       "      <td>15</td>\n",
       "      <td>18.8</td>\n",
       "      <td>No</td>\n",
       "    </tr>\n",
       "    <tr>\n",
       "      <td>4</td>\n",
       "      <td>-0.1</td>\n",
       "      <td>10.5</td>\n",
       "      <td>0.2</td>\n",
       "      <td>31</td>\n",
       "      <td>7</td>\n",
       "      <td>11</td>\n",
       "      <td>95</td>\n",
       "      <td>68</td>\n",
       "      <td>1019</td>\n",
       "      <td>1017.2</td>\n",
       "      <td>5</td>\n",
       "      <td>9.7</td>\n",
       "      <td>No</td>\n",
       "    </tr>\n",
       "    <tr>\n",
       "      <td>...</td>\n",
       "      <td>...</td>\n",
       "      <td>...</td>\n",
       "      <td>...</td>\n",
       "      <td>...</td>\n",
       "      <td>...</td>\n",
       "      <td>...</td>\n",
       "      <td>...</td>\n",
       "      <td>...</td>\n",
       "      <td>...</td>\n",
       "      <td>...</td>\n",
       "      <td>...</td>\n",
       "      <td>...</td>\n",
       "      <td>...</td>\n",
       "    </tr>\n",
       "    <tr>\n",
       "      <td>9996</td>\n",
       "      <td>13</td>\n",
       "      <td>26.8</td>\n",
       "      <td>0</td>\n",
       "      <td>35</td>\n",
       "      <td>6</td>\n",
       "      <td>7</td>\n",
       "      <td>80</td>\n",
       "      <td>47</td>\n",
       "      <td>1015.8</td>\n",
       "      <td>1011.5</td>\n",
       "      <td>18.8</td>\n",
       "      <td>26.5</td>\n",
       "      <td>Yes</td>\n",
       "    </tr>\n",
       "    <tr>\n",
       "      <td>9997</td>\n",
       "      <td>10</td>\n",
       "      <td>25.5</td>\n",
       "      <td>0</td>\n",
       "      <td>37</td>\n",
       "      <td>20</td>\n",
       "      <td>11</td>\n",
       "      <td>40</td>\n",
       "      <td>24</td>\n",
       "      <td>1029</td>\n",
       "      <td>1024.7</td>\n",
       "      <td>17.4</td>\n",
       "      <td>24.8</td>\n",
       "      <td>No</td>\n",
       "    </tr>\n",
       "    <tr>\n",
       "      <td>9998</td>\n",
       "      <td>17.9</td>\n",
       "      <td>21.4</td>\n",
       "      <td>9.2</td>\n",
       "      <td>43</td>\n",
       "      <td>24</td>\n",
       "      <td>28</td>\n",
       "      <td>86</td>\n",
       "      <td>86</td>\n",
       "      <td>1022.7</td>\n",
       "      <td>1020.3</td>\n",
       "      <td>20</td>\n",
       "      <td>19.7</td>\n",
       "      <td>Yes</td>\n",
       "    </tr>\n",
       "    <tr>\n",
       "      <td>9999</td>\n",
       "      <td>14.5</td>\n",
       "      <td>30.5</td>\n",
       "      <td>0</td>\n",
       "      <td>76</td>\n",
       "      <td>13</td>\n",
       "      <td>46</td>\n",
       "      <td>40</td>\n",
       "      <td>27</td>\n",
       "      <td>1008</td>\n",
       "      <td>1004.4</td>\n",
       "      <td>23.2</td>\n",
       "      <td>28.1</td>\n",
       "      <td>No</td>\n",
       "    </tr>\n",
       "    <tr>\n",
       "      <td>10000</td>\n",
       "      <td>0.6</td>\n",
       "      <td>11.7</td>\n",
       "      <td>4.6</td>\n",
       "      <td>39</td>\n",
       "      <td>0</td>\n",
       "      <td>19</td>\n",
       "      <td>100</td>\n",
       "      <td>68</td>\n",
       "      <td>1013.6</td>\n",
       "      <td>1011.6</td>\n",
       "      <td>4.3</td>\n",
       "      <td>11.1</td>\n",
       "      <td>Yes</td>\n",
       "    </tr>\n",
       "  </tbody>\n",
       "</table>\n",
       "<p>10001 rows × 13 columns</p>\n",
       "</div>"
      ],
      "text/plain": [
       "             0        1         2              3             4             5  \\\n",
       "0      MinTemp  MaxTemp  Rainfall  WindGustSpeed  WindSpeed9am  WindSpeed3pm   \n",
       "1          8.7     21.7         0             39            17            20   \n",
       "2          8.9     17.2       9.2             69            31            30   \n",
       "3         10.8     20.8         0             33            11            24   \n",
       "4         -0.1     10.5       0.2             31             7            11   \n",
       "...        ...      ...       ...            ...           ...           ...   \n",
       "9996        13     26.8         0             35             6             7   \n",
       "9997        10     25.5         0             37            20            11   \n",
       "9998      17.9     21.4       9.2             43            24            28   \n",
       "9999      14.5     30.5         0             76            13            46   \n",
       "10000      0.6     11.7       4.6             39             0            19   \n",
       "\n",
       "                 6            7            8            9       10       11  \\\n",
       "0      Humidity9am  Humidity3pm  Pressure9am  Pressure3pm  Temp9am  Temp3pm   \n",
       "1               56           35       1025.4       1022.1     14.2     20.4   \n",
       "2               81           50         1008         1005     11.6     15.5   \n",
       "3               67           54       1027.3       1021.1       15     18.8   \n",
       "4               95           68         1019       1017.2        5      9.7   \n",
       "...            ...          ...          ...          ...      ...      ...   \n",
       "9996            80           47       1015.8       1011.5     18.8     26.5   \n",
       "9997            40           24         1029       1024.7     17.4     24.8   \n",
       "9998            86           86       1022.7       1020.3       20     19.7   \n",
       "9999            40           27         1008       1004.4     23.2     28.1   \n",
       "10000          100           68       1013.6       1011.6      4.3     11.1   \n",
       "\n",
       "                 12  \n",
       "0      RainTomorrow  \n",
       "1                No  \n",
       "2               Yes  \n",
       "3                No  \n",
       "4                No  \n",
       "...             ...  \n",
       "9996            Yes  \n",
       "9997             No  \n",
       "9998            Yes  \n",
       "9999             No  \n",
       "10000           Yes  \n",
       "\n",
       "[10001 rows x 13 columns]"
      ]
     },
     "execution_count": 18,
     "metadata": {},
     "output_type": "execute_result"
    }
   ],
   "source": [
    "reader = csv.reader(open(\"weatherAUS_training.csv\", \"rt\", encoding=\"utf8\"))\n",
    "training_data = list(reader)\n",
    "training_data = np.array(training_data)\n",
    "\n",
    "reader = csv.reader(open(\"weatherAUS_test.csv\", \"rt\", encoding=\"utf8\"))\n",
    "test_data = list(reader)\n",
    "test_data = np.array(test_data)\n",
    "\n",
    "data_1, data_2 = formatize_weather_data(training_data)\n",
    "\n",
    "# for unbiased data: uncomment the next line\n",
    "# data_2 = data_2[:np.shape(data_1)[0], :]\n",
    "\n",
    "test_data_1, test_data_2 = formatize_weather_data(test_data)\n",
    "\n",
    "# for unbiased data: uncomment the next line\n",
    "# test_data_2 = test_data_2[:np.shape(test_data_1)[0], :]\n",
    "\n",
    "test_data = np.append(test_data_1, test_data_2, axis=0)\n",
    "\n",
    "pd.DataFrame(training_data)"
   ]
  },
  {
   "cell_type": "code",
   "execution_count": 19,
   "metadata": {
    "scrolled": true
   },
   "outputs": [
    {
     "name": "stdout",
     "output_type": "stream",
     "text": [
      "Enter the number of decision stumps: 100\n",
      "Trained\n",
      "\n",
      "Ada-Boost Classified  847 out of  1000 examples correctly.\n",
      "False negative:  97\n",
      "False positive:  56\n",
      "\n"
     ]
    }
   ],
   "source": [
    "number_of_stumps = int(input('Enter the number of decision stumps: '))\n",
    "ada_boost_weather = AdaBoost(data_1, data_2, number_of_stumps)\n",
    "ada_boost_weather.train()\n",
    "\n",
    "print('Trained')\n",
    "print()\n",
    "\n",
    "test_classification(ada_boost_weather, test_data)"
   ]
  }
 ],
 "metadata": {
  "kernelspec": {
   "display_name": "Python 3",
   "language": "python",
   "name": "python3"
  },
  "language_info": {
   "codemirror_mode": {
    "name": "ipython",
    "version": 3
   },
   "file_extension": ".py",
   "mimetype": "text/x-python",
   "name": "python",
   "nbconvert_exporter": "python",
   "pygments_lexer": "ipython3",
   "version": "3.7.4"
  }
 },
 "nbformat": 4,
 "nbformat_minor": 2
}
