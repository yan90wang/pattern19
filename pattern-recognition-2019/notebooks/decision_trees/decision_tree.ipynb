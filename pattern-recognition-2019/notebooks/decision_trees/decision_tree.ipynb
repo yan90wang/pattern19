{
 "cells": [
  {
   "cell_type": "markdown",
   "metadata": {},
   "source": [
    "# Decision Tree"
   ]
  },
  {
   "cell_type": "markdown",
   "metadata": {},
   "source": [
    "This notebook implements a decision tree. In principle, at first, the root is chosen after the highest information gain. Then, this procedure is applied to all children of the root recursively."
   ]
  },
  {
   "cell_type": "code",
   "execution_count": 1,
   "metadata": {},
   "outputs": [],
   "source": [
    "import matplotlib.pyplot as plt\n",
    "from Tree import Node, formatize, split_data\n",
    "import numpy as np\n",
    "import csv\n",
    "import scipy.io as scio\n",
    "import pandas as pd\n",
    "import math\n",
    "import random"
   ]
  },
  {
   "cell_type": "markdown",
   "metadata": {},
   "source": [
    "## Toy Example"
   ]
  },
  {
   "cell_type": "markdown",
   "metadata": {},
   "source": [
    "First, we are going to consider a decision tree with the example in the lecture slides. The data used can be seen in the following table."
   ]
  },
  {
   "cell_type": "code",
   "execution_count": 2,
   "metadata": {},
   "outputs": [
    {
     "data": {
      "text/html": [
       "<div>\n",
       "<style scoped>\n",
       "    .dataframe tbody tr th:only-of-type {\n",
       "        vertical-align: middle;\n",
       "    }\n",
       "\n",
       "    .dataframe tbody tr th {\n",
       "        vertical-align: top;\n",
       "    }\n",
       "\n",
       "    .dataframe thead th {\n",
       "        text-align: right;\n",
       "    }\n",
       "</style>\n",
       "<table border=\"1\" class=\"dataframe\">\n",
       "  <thead>\n",
       "    <tr style=\"text-align: right;\">\n",
       "      <th></th>\n",
       "      <th>Size</th>\n",
       "      <th>Humidity</th>\n",
       "      <th>Label</th>\n",
       "    </tr>\n",
       "  </thead>\n",
       "  <tbody>\n",
       "    <tr>\n",
       "      <td>0</td>\n",
       "      <td>1</td>\n",
       "      <td>1</td>\n",
       "      <td>0</td>\n",
       "    </tr>\n",
       "    <tr>\n",
       "      <td>1</td>\n",
       "      <td>1.5</td>\n",
       "      <td>1</td>\n",
       "      <td>0</td>\n",
       "    </tr>\n",
       "    <tr>\n",
       "      <td>2</td>\n",
       "      <td>2</td>\n",
       "      <td>1.25</td>\n",
       "      <td>0</td>\n",
       "    </tr>\n",
       "    <tr>\n",
       "      <td>3</td>\n",
       "      <td>4</td>\n",
       "      <td>1</td>\n",
       "      <td>1</td>\n",
       "    </tr>\n",
       "    <tr>\n",
       "      <td>4</td>\n",
       "      <td>5</td>\n",
       "      <td>1</td>\n",
       "      <td>1</td>\n",
       "    </tr>\n",
       "    <tr>\n",
       "      <td>5</td>\n",
       "      <td>1.25</td>\n",
       "      <td>3</td>\n",
       "      <td>1</td>\n",
       "    </tr>\n",
       "    <tr>\n",
       "      <td>6</td>\n",
       "      <td>1.75</td>\n",
       "      <td>2.5</td>\n",
       "      <td>1</td>\n",
       "    </tr>\n",
       "    <tr>\n",
       "      <td>7</td>\n",
       "      <td>2</td>\n",
       "      <td>3.25</td>\n",
       "      <td>1</td>\n",
       "    </tr>\n",
       "    <tr>\n",
       "      <td>8</td>\n",
       "      <td>4</td>\n",
       "      <td>3</td>\n",
       "      <td>1</td>\n",
       "    </tr>\n",
       "    <tr>\n",
       "      <td>9</td>\n",
       "      <td>5.5</td>\n",
       "      <td>2.5</td>\n",
       "      <td>1</td>\n",
       "    </tr>\n",
       "    <tr>\n",
       "      <td>10</td>\n",
       "      <td>1</td>\n",
       "      <td>4.5</td>\n",
       "      <td>0</td>\n",
       "    </tr>\n",
       "    <tr>\n",
       "      <td>11</td>\n",
       "      <td>2.25</td>\n",
       "      <td>4.5</td>\n",
       "      <td>0</td>\n",
       "    </tr>\n",
       "    <tr>\n",
       "      <td>12</td>\n",
       "      <td>3.75</td>\n",
       "      <td>4.5</td>\n",
       "      <td>1</td>\n",
       "    </tr>\n",
       "    <tr>\n",
       "      <td>13</td>\n",
       "      <td>4.5</td>\n",
       "      <td>4.5</td>\n",
       "      <td>1</td>\n",
       "    </tr>\n",
       "  </tbody>\n",
       "</table>\n",
       "</div>"
      ],
      "text/plain": [
       "    Size Humidity Label\n",
       "0      1        1     0\n",
       "1    1.5        1     0\n",
       "2      2     1.25     0\n",
       "3      4        1     1\n",
       "4      5        1     1\n",
       "5   1.25        3     1\n",
       "6   1.75      2.5     1\n",
       "7      2     3.25     1\n",
       "8      4        3     1\n",
       "9    5.5      2.5     1\n",
       "10     1      4.5     0\n",
       "11  2.25      4.5     0\n",
       "12  3.75      4.5     1\n",
       "13   4.5      4.5     1"
      ]
     },
     "execution_count": 2,
     "metadata": {},
     "output_type": "execute_result"
    }
   ],
   "source": [
    "reader = csv.reader(open(\"Toy.csv\", \"rt\", encoding=\"utf8\"), delimiter=',')\n",
    "data = list(reader)\n",
    "data = np.array(data)\n",
    "\n",
    "n, d = np.shape(data)\n",
    "\n",
    "pd_data = {}\n",
    "\n",
    "for i in range(d):\n",
    "    pd_data[data[0, i]] = list(data[1:, i])\n",
    "\n",
    "df = pd.DataFrame(pd_data)\n",
    "df"
   ]
  },
  {
   "cell_type": "markdown",
   "metadata": {},
   "source": [
    "Visualized, it looks as follows:"
   ]
  },
  {
   "cell_type": "code",
   "execution_count": 3,
   "metadata": {},
   "outputs": [
    {
     "data": {
      "image/png": "[encoded data removed]",
      "text/plain": [
       "<Figure size 432x288 with 1 Axes>"
      ]
     },
     "metadata": {
      "needs_background": "light"
     },
     "output_type": "display_data"
    }
   ],
   "source": [
    "# remove the feature labels\n",
    "data = data[1:, :].astype(float)\n",
    "\n",
    "# split it into two classes for visualization\n",
    "ind_1 = np.where(data[:, -1] == 1)[0]\n",
    "ind_2 = np.where(data[:, -1] == 0)[0]\n",
    "data_1 = np.take(data, ind_1, axis=0)\n",
    "data_2 = np.take(data, ind_2, axis=0)\n",
    "\n",
    "plt.plot(data_1[:, 0], data_1[:, 1], 'gs')\n",
    "plt.plot(data_2[:, 0], data_2[:, 1], 'bo')\n",
    "plt.xlabel('Size')\n",
    "plt.ylabel('Humidity')\n",
    "plt.legend(['$\\omega_1$: Poisonous', '$\\omega_2$: Not poisonous'])\n",
    "plt.show()"
   ]
  },
  {
   "cell_type": "markdown",
   "metadata": {},
   "source": [
    "As we can see in the plot, the bound $s_0 = 3$ for the size and the bounds $h_0 = 2$, $h_1 = 4$ for humidity would split the space into reasonable regions. You can however enter your own boundaries here below.\n",
    "It is important that you enter the boundaries in ascending order!"
   ]
  },
  {
   "cell_type": "code",
   "execution_count": 4,
   "metadata": {},
   "outputs": [],
   "source": [
    "s_sep = [3]    # [s_0]\n",
    "h_sep = [2, 4] # [h_0, h_1]"
   ]
  },
  {
   "cell_type": "markdown",
   "metadata": {},
   "source": [
    "Normally, the boundaries can be found automatically by sorting the data and inserting a boundary at every class change. For reasons of simplicity and visualization, we enter the boundaries manually here.\n",
    "\n",
    "We create a root node and train it. The root then trains all of its children recursively."
   ]
  },
  {
   "cell_type": "code",
   "execution_count": 5,
   "metadata": {},
   "outputs": [],
   "source": [
    "n, d = np.shape(data)\n",
    "\n",
    "separations = [s_sep, h_sep]\n",
    "\n",
    "# create a root node with data 'data', minimum remaining values '1' and separations 'separations'.\n",
    "min_rem_val = 1\n",
    "root = Node(data, min_rem_val, separations)\n",
    "root.train()"
   ]
  },
  {
   "cell_type": "markdown",
   "metadata": {},
   "source": [
    "The class *Node* implements methods for computing entropy, information gain, the corresponding sets $S_\\nu$ and finally $a^*$. The information gain for the default separations is the same as in the slides. Of course we can also compute it manually. The calculation of the entropy is quite easy, to find the correct sets $S_\\nu$ recursively takes a lot of code. For the size and the humidity, we can however do it easily by hand."
   ]
  },
  {
   "cell_type": "code",
   "execution_count": 6,
   "metadata": {},
   "outputs": [
    {
     "name": "stdout",
     "output_type": "stream",
     "text": [
      "Information gain for the size:  0.3948950998563654\n",
      "Information gain for the humidity:  0.3078036035082494\n"
     ]
    }
   ],
   "source": [
    "# recall that the data matrix is given by the ['size', 'humidity', 'poisonous']\n",
    "\n",
    "ind_s_0 = np.where(data[:, 0] <= s_sep[0])[0]\n",
    "ind_s_1 = np.where(data[:, 0] > s_sep[0])[0]\n",
    "s_size_0 = np.take(data, ind_s_0, axis=0)\n",
    "s_size_1 = np.take(data, ind_s_1, axis=0)\n",
    "S_nus_size = [s_size_0, s_size_1]\n",
    "\n",
    "ind_h_0 = np.where(data[:, 1] <= h_sep[0])[0]\n",
    "ind_h_1 = np.where(np.logical_and(data[:, 1] > h_sep[0], data[:, 1] <= h_sep[1]))[0]\n",
    "ind_h_2 = np.where(data[:, 1] > h_sep[1])[0]\n",
    "s_hdty_0 = np.take(data, ind_h_0, axis=0)\n",
    "s_hdty_1 = np.take(data, ind_h_1, axis=0)\n",
    "s_hdty_2 = np.take(data, ind_h_2, axis=0)\n",
    "S_nus_hdty = [s_hdty_0, s_hdty_1, s_hdty_2]\n",
    "\n",
    "def ig(S_nus):\n",
    "        # in practice, we would have to get the S_nus here recursively\n",
    "        # moreover, the root below would be replaced by self, the data by self.data\n",
    "        h_nu = 0\n",
    "        n, d = np.shape(data)\n",
    "\n",
    "        for S_nu in S_nus:\n",
    "            if S_nu is None:\n",
    "                continue\n",
    "            m, e = np.shape(S_nu)\n",
    "            h_nu += (m/n)*root.entropy(S_nu)\n",
    "\n",
    "        return root.entropy(data) - h_nu\n",
    "\n",
    "print('Information gain for the size: ', ig(S_nus_size))\n",
    "print('Information gain for the humidity: ', ig(S_nus_hdty))"
   ]
  },
  {
   "cell_type": "markdown",
   "metadata": {},
   "source": [
    "In the following block, we check wheter the decision, we visualize the decision boundary."
   ]
  },
  {
   "cell_type": "code",
   "execution_count": 7,
   "metadata": {},
   "outputs": [
    {
     "data": {
      "image/png": "[encoded data removed]",
      "text/plain": [
       "<Figure size 432x288 with 1 Axes>"
      ]
     },
     "metadata": {
      "needs_background": "light"
     },
     "output_type": "display_data"
    }
   ],
   "source": [
    "x = np.linspace(0, 6)\n",
    "y = np.linspace(0, 6)\n",
    "\n",
    "xm, ym = np.meshgrid(x, y)\n",
    "\n",
    "n, m = np.shape(xm)\n",
    "f = np.zeros((n, m))\n",
    "\n",
    "for i in range(n):\n",
    "    for j in range(m):\n",
    "        f[i, j] = root.classify(np.array([xm[i, j], ym[i, j]]))\n",
    "        \n",
    "plt.contourf(x, y, f, levels=[-0.5, 0.5, 1.5], alpha=0.3, origin = \"image\")\n",
    "plt.xlabel('Size')\n",
    "plt.ylabel('Humidity')\n",
    "plt.plot(data_1[:, 0], data_1[:, 1], 'gs')\n",
    "plt.plot(data_2[:, 0], data_2[:, 1], 'bo')\n",
    "plt.legend(['$\\omega_1$: Poisonous', '$\\omega_2$: Not poisonous'])\n",
    "plt.show()"
   ]
  },
  {
   "cell_type": "markdown",
   "metadata": {},
   "source": [
    "You can now enter your own example of a mushroom which is then classified as poisonous or non-poisonous."
   ]
  },
  {
   "cell_type": "code",
   "execution_count": 8,
   "metadata": {},
   "outputs": [
    {
     "name": "stdout",
     "output_type": "stream",
     "text": [
      "Enter size: 2\n",
      "Enter Humidity: 2\n",
      "Not poisonous\n"
     ]
    }
   ],
   "source": [
    "size = float(input('Enter size: '))\n",
    "hum = float(input('Enter Humidity: '))\n",
    "\n",
    "omega = root.classify(np.array([size, hum]))\n",
    "\n",
    "if omega == 0:\n",
    "    print('Not poisonous')\n",
    "elif omega == 1:\n",
    "        print('Poisonous')"
   ]
  },
  {
   "cell_type": "markdown",
   "metadata": {},
   "source": [
    "## Titanic Dataset"
   ]
  },
  {
   "cell_type": "markdown",
   "metadata": {},
   "source": [
    "Now we are going to test the decision tree on a data set of titanic passengers. The data set is available on\n",
    "\n",
    "https://web.stanford.edu/class/archive/cs/cs109/cs109.1166/problem12.html\n",
    "\n",
    "The data used is passenger class, sex, age, number of siblings or sprouses aboard, number of parents or children aboard and the fare they paid.\n",
    "\n",
    "Given all that, we want do predict wheter a person will survive the sinking. The data set looks as follows:"
   ]
  },
  {
   "cell_type": "code",
   "execution_count": 9,
   "metadata": {},
   "outputs": [
    {
     "data": {
      "text/html": [
       "<div>\n",
       "<style scoped>\n",
       "    .dataframe tbody tr th:only-of-type {\n",
       "        vertical-align: middle;\n",
       "    }\n",
       "\n",
       "    .dataframe tbody tr th {\n",
       "        vertical-align: top;\n",
       "    }\n",
       "\n",
       "    .dataframe thead th {\n",
       "        text-align: right;\n",
       "    }\n",
       "</style>\n",
       "<table border=\"1\" class=\"dataframe\">\n",
       "  <thead>\n",
       "    <tr style=\"text-align: right;\">\n",
       "      <th></th>\n",
       "      <th>Pclass</th>\n",
       "      <th>Name</th>\n",
       "      <th>Sex</th>\n",
       "      <th>Age</th>\n",
       "      <th>Siblings/Spouses Aboard</th>\n",
       "      <th>Parents/Children Aboard</th>\n",
       "      <th>Fare</th>\n",
       "      <th>Survived</th>\n",
       "    </tr>\n",
       "  </thead>\n",
       "  <tbody>\n",
       "    <tr>\n",
       "      <td>0</td>\n",
       "      <td>1</td>\n",
       "      <td>Mrs. John Bradley (Florence Briggs Thayer) Cum...</td>\n",
       "      <td>female</td>\n",
       "      <td>38</td>\n",
       "      <td>1</td>\n",
       "      <td>0</td>\n",
       "      <td>71.2833</td>\n",
       "      <td>1</td>\n",
       "    </tr>\n",
       "    <tr>\n",
       "      <td>1</td>\n",
       "      <td>3</td>\n",
       "      <td>Miss. Laina Heikkinen</td>\n",
       "      <td>female</td>\n",
       "      <td>26</td>\n",
       "      <td>0</td>\n",
       "      <td>0</td>\n",
       "      <td>7.925</td>\n",
       "      <td>1</td>\n",
       "    </tr>\n",
       "    <tr>\n",
       "      <td>2</td>\n",
       "      <td>1</td>\n",
       "      <td>Mrs. Jacques Heath (Lily May Peel) Futrelle</td>\n",
       "      <td>female</td>\n",
       "      <td>35</td>\n",
       "      <td>1</td>\n",
       "      <td>0</td>\n",
       "      <td>53.1</td>\n",
       "      <td>1</td>\n",
       "    </tr>\n",
       "    <tr>\n",
       "      <td>3</td>\n",
       "      <td>3</td>\n",
       "      <td>Mr. James Moran</td>\n",
       "      <td>male</td>\n",
       "      <td>27</td>\n",
       "      <td>0</td>\n",
       "      <td>0</td>\n",
       "      <td>8.4583</td>\n",
       "      <td>0</td>\n",
       "    </tr>\n",
       "    <tr>\n",
       "      <td>4</td>\n",
       "      <td>1</td>\n",
       "      <td>Mr. Timothy J McCarthy</td>\n",
       "      <td>male</td>\n",
       "      <td>54</td>\n",
       "      <td>0</td>\n",
       "      <td>0</td>\n",
       "      <td>51.8625</td>\n",
       "      <td>0</td>\n",
       "    </tr>\n",
       "    <tr>\n",
       "      <td>...</td>\n",
       "      <td>...</td>\n",
       "      <td>...</td>\n",
       "      <td>...</td>\n",
       "      <td>...</td>\n",
       "      <td>...</td>\n",
       "      <td>...</td>\n",
       "      <td>...</td>\n",
       "      <td>...</td>\n",
       "    </tr>\n",
       "    <tr>\n",
       "      <td>683</td>\n",
       "      <td>2</td>\n",
       "      <td>Mrs. William (Imanita Parrish Hall) Shelley</td>\n",
       "      <td>female</td>\n",
       "      <td>25</td>\n",
       "      <td>0</td>\n",
       "      <td>1</td>\n",
       "      <td>26</td>\n",
       "      <td>1</td>\n",
       "    </tr>\n",
       "    <tr>\n",
       "      <td>684</td>\n",
       "      <td>3</td>\n",
       "      <td>Mr. Johann Markun</td>\n",
       "      <td>male</td>\n",
       "      <td>33</td>\n",
       "      <td>0</td>\n",
       "      <td>0</td>\n",
       "      <td>7.8958</td>\n",
       "      <td>0</td>\n",
       "    </tr>\n",
       "    <tr>\n",
       "      <td>685</td>\n",
       "      <td>3</td>\n",
       "      <td>Mr. Henry Jr Sutehall</td>\n",
       "      <td>male</td>\n",
       "      <td>25</td>\n",
       "      <td>0</td>\n",
       "      <td>0</td>\n",
       "      <td>7.05</td>\n",
       "      <td>0</td>\n",
       "    </tr>\n",
       "    <tr>\n",
       "      <td>686</td>\n",
       "      <td>2</td>\n",
       "      <td>Rev. Juozas Montvila</td>\n",
       "      <td>male</td>\n",
       "      <td>27</td>\n",
       "      <td>0</td>\n",
       "      <td>0</td>\n",
       "      <td>13</td>\n",
       "      <td>0</td>\n",
       "    </tr>\n",
       "    <tr>\n",
       "      <td>687</td>\n",
       "      <td>1</td>\n",
       "      <td>Mr. Karl Howell Behr</td>\n",
       "      <td>male</td>\n",
       "      <td>26</td>\n",
       "      <td>0</td>\n",
       "      <td>0</td>\n",
       "      <td>30</td>\n",
       "      <td>1</td>\n",
       "    </tr>\n",
       "  </tbody>\n",
       "</table>\n",
       "<p>688 rows × 8 columns</p>\n",
       "</div>"
      ],
      "text/plain": [
       "    Pclass                                               Name     Sex Age  \\\n",
       "0        1  Mrs. John Bradley (Florence Briggs Thayer) Cum...  female  38   \n",
       "1        3                              Miss. Laina Heikkinen  female  26   \n",
       "2        1        Mrs. Jacques Heath (Lily May Peel) Futrelle  female  35   \n",
       "3        3                                    Mr. James Moran    male  27   \n",
       "4        1                             Mr. Timothy J McCarthy    male  54   \n",
       "..     ...                                                ...     ...  ..   \n",
       "683      2        Mrs. William (Imanita Parrish Hall) Shelley  female  25   \n",
       "684      3                                  Mr. Johann Markun    male  33   \n",
       "685      3                              Mr. Henry Jr Sutehall    male  25   \n",
       "686      2                               Rev. Juozas Montvila    male  27   \n",
       "687      1                               Mr. Karl Howell Behr    male  26   \n",
       "\n",
       "    Siblings/Spouses Aboard Parents/Children Aboard     Fare Survived  \n",
       "0                         1                       0  71.2833        1  \n",
       "1                         0                       0    7.925        1  \n",
       "2                         1                       0     53.1        1  \n",
       "3                         0                       0   8.4583        0  \n",
       "4                         0                       0  51.8625        0  \n",
       "..                      ...                     ...      ...      ...  \n",
       "683                       0                       1       26        1  \n",
       "684                       0                       0   7.8958        0  \n",
       "685                       0                       0     7.05        0  \n",
       "686                       0                       0       13        0  \n",
       "687                       0                       0       30        1  \n",
       "\n",
       "[688 rows x 8 columns]"
      ]
     },
     "execution_count": 9,
     "metadata": {},
     "output_type": "execute_result"
    }
   ],
   "source": [
    "reader = csv.reader(open(\"titanic_train.csv\", \"rt\", encoding=\"utf8\"), delimiter=',')\n",
    "training_data = list(reader)\n",
    "training_data_from_file = np.array(training_data)\n",
    "\n",
    "reader = csv.reader(open(\"titanic_test.csv\", \"rt\", encoding=\"utf8\"), delimiter=',')\n",
    "test_data = list(reader)\n",
    "test_data_from_file = np.array(test_data)\n",
    "\n",
    "n, d = np.shape(training_data)\n",
    "\n",
    "pd_data = {}\n",
    "\n",
    "for i in range(d):\n",
    "    pd_data[training_data_from_file[0, i]] = list(training_data_from_file[1:, i])\n",
    "    \n",
    "df = pd.DataFrame(pd_data)\n",
    "df"
   ]
  },
  {
   "cell_type": "markdown",
   "metadata": {},
   "source": [
    "We do have to format the data by assigning a value to the sex as well as to remove the first row with the labels of the features. This is done in the formatize method.\n",
    "\n",
    "Afterwards, we train a tree with this data set and then test the performance on the test set. You can enter the number of remaining values at which we stop splitting and assign the majority class to the currently considered node.\n",
    "\n",
    "We are going to use the following separation, but you can also play around with it!"
   ]
  },
  {
   "cell_type": "code",
   "execution_count": 10,
   "metadata": {},
   "outputs": [],
   "source": [
    "class_sep = [1, 2, 3]\n",
    "sex_sep = [0.5] \n",
    "age_sep = [9, 18, 25, 38, 47, 56, 65, 70]\n",
    "siblings_sep = [1, 2, 3, 4]\n",
    "parents_sep = [1, 2, 3, 4]\n",
    "fare_sep = [10*i for i in range(1, 10)]\n",
    "\n",
    "separations = [class_sep, sex_sep, age_sep, siblings_sep, parents_sep, fare_sep]"
   ]
  },
  {
   "cell_type": "code",
   "execution_count": 11,
   "metadata": {},
   "outputs": [
    {
     "name": "stdout",
     "output_type": "stream",
     "text": [
      "Enter the number of minimal remaining values: 10\n",
      "Classified 160 out of 200 examples correctly.\n"
     ]
    }
   ],
   "source": [
    "# keep the features for further issues\n",
    "features = training_data_from_file[0, :]\n",
    "# remove the names and the labels\n",
    "features = np.delete(features, 1)\n",
    "features = np.delete(features, -1)\n",
    "\n",
    "# create a nice np.array\n",
    "training_data = formatize(training_data_from_file)\n",
    "test_data = formatize(test_data_from_file)\n",
    "\n",
    "# Play around with the number of minimal remaining passengers!\n",
    "# note that the lower the number, the higher the danger of overfitting\n",
    "min_passengers = int(input('Enter the number of minimal remaining values: '))\n",
    "root_2 = Node(training_data, min_passengers, separations)\n",
    "root_2.train()\n",
    "\n",
    "n, d = np.shape(test_data)\n",
    "\n",
    "corr = 0\n",
    "\n",
    "for i in range(n):\n",
    "    if test_data[i, d-1] == root_2.classify(np.array(test_data[i, :d-1])):\n",
    "        corr += 1\n",
    "\n",
    "print('Classified', corr, 'out of', n, 'examples correctly.')"
   ]
  },
  {
   "cell_type": "markdown",
   "metadata": {},
   "source": [
    "We can also print the information gain for the first node:"
   ]
  },
  {
   "cell_type": "code",
   "execution_count": 12,
   "metadata": {},
   "outputs": [
    {
     "name": "stdout",
     "output_type": "stream",
     "text": [
      "Information gain for Pclass:  0.07188373957410232\n",
      "Information gain for Sex:  0.22604658073492212\n",
      "Information gain for Age:  0.027011478334324823\n",
      "Information gain for Siblings/Spouses Aboard:  0.009499541148886848\n",
      "Information gain for Parents/Children Aboard:  0.013555332904855888\n",
      "Information gain for Fare:  0.09484279915454985\n"
     ]
    }
   ],
   "source": [
    "for i in range(len(features)):\n",
    "    print('Information gain for', features[i] + ': ', root_2.ig(i)[0])"
   ]
  },
  {
   "cell_type": "markdown",
   "metadata": {},
   "source": [
    "The full tree looks like as follows. The features are always ordered in ascending order."
   ]
  },
  {
   "cell_type": "code",
   "execution_count": 13,
   "metadata": {
    "scrolled": true
   },
   "outputs": [
    {
     "name": "stdout",
     "output_type": "stream",
     "text": [
      "Sex\n",
      "|--Age\n",
      "|  |--Siblings/Spouses Aboard\n",
      "|  |--Fare\n",
      "|  |  |--Pclass\n",
      "|  |  |  |--Siblings/Spouses Aboard\n",
      "|  |  |  |  |--Parents/Children Aboard\n",
      "|  |--Fare\n",
      "|  |  |--Pclass\n",
      "|  |  |  |--Siblings/Spouses Aboard\n",
      "|  |  |  |  |--Parents/Children Aboard\n",
      "|  |  |--Pclass\n",
      "|  |  |  |--Siblings/Spouses Aboard\n",
      "|  |  |  |  |--Parents/Children Aboard\n",
      "|  |--Fare\n",
      "|  |  |--Pclass\n",
      "|  |  |  |--Siblings/Spouses Aboard\n",
      "|  |  |  |  |--Parents/Children Aboard\n",
      "|  |  |--Pclass\n",
      "|  |  |  |--Siblings/Spouses Aboard\n",
      "|  |  |  |  |--Parents/Children Aboard\n",
      "|  |  |--Pclass\n",
      "|  |  |  |--Siblings/Spouses Aboard\n",
      "|  |  |  |  |--Parents/Children Aboard\n",
      "|  |  |  |--Parents/Children Aboard\n",
      "|  |--Fare\n",
      "|  |  |--Pclass\n",
      "|  |  |  |--Siblings/Spouses Aboard\n",
      "|  |  |  |  |--Parents/Children Aboard\n",
      "|  |  |--Pclass\n",
      "|  |--Fare\n",
      "|  |--Fare\n",
      "|--Pclass\n",
      "|  |--Parents/Children Aboard\n",
      "|  |--Age\n",
      "|  |  |--Fare\n",
      "|  |  |--Fare\n",
      "|  |  |  |--Siblings/Spouses Aboard\n",
      "|  |  |  |  |--Parents/Children Aboard\n",
      "|  |--Age\n",
      "|  |  |--Siblings/Spouses Aboard\n",
      "|  |  |--Fare\n",
      "|  |  |  |--Siblings/Spouses Aboard\n",
      "|  |  |  |  |--Parents/Children Aboard\n",
      "|  |  |--Fare\n",
      "|  |  |  |--Siblings/Spouses Aboard\n",
      "|  |  |  |  |--Parents/Children Aboard\n",
      "|  |  |--Parents/Children Aboard\n",
      "|  |  |  |--Siblings/Spouses Aboard\n",
      "|  |  |  |  |--Fare\n"
     ]
    }
   ],
   "source": [
    "print(root_2.to_string(features, depth=0))"
   ]
  },
  {
   "cell_type": "markdown",
   "metadata": {},
   "source": [
    "Check whether you would (likely) have survived the tianic catastrophe! If you do not know your ticket fare or anything else from the data you are asked to enter below, just leave the field blank. The classification function assigns, if needed, the most common value to that feature."
   ]
  },
  {
   "cell_type": "code",
   "execution_count": 14,
   "metadata": {},
   "outputs": [
    {
     "name": "stdout",
     "output_type": "stream",
     "text": [
      "Enter passenger class: 1\n",
      "Enter sex (m/f): 1\n",
      "Enter age: \n",
      "Enter the number of siblings/sprouses aboard: \n",
      "Enter the number of parents or childrens aboard: \n",
      "Enter the ticket fare paid: \n",
      "\n",
      "Likely survives.\n"
     ]
    }
   ],
   "source": [
    "try:\n",
    "    p_class = float(input('Enter passenger class: '))\n",
    "except:\n",
    "    p_class = None\n",
    "\n",
    "sex = input('Enter sex (m/f): ')\n",
    "\n",
    "try:\n",
    "    age = float(input('Enter age: '))\n",
    "except:\n",
    "    age = None\n",
    "try:\n",
    "    siblings = float(input('Enter the number of siblings/sprouses aboard: '))\n",
    "except:\n",
    "    siblings = None\n",
    "try:\n",
    "    parents = float(input('Enter the number of parents or childrens aboard: '))\n",
    "except:\n",
    "    parents = None\n",
    "try:\n",
    "    fare = float(input('Enter the ticket fare paid: '))\n",
    "except:\n",
    "    fare = None\n",
    "\n",
    "if sex == 'm':\n",
    "    sex_number = 0\n",
    "elif sex == 'f':\n",
    "    sex_number = 1\n",
    "else:\n",
    "    sex_number = None\n",
    "    \n",
    "print()\n",
    "passenger = np.array([p_class, sex_number, age, siblings, parents, fare])\n",
    "\n",
    "if(root_2.classify(passenger)) == 1:\n",
    "    print('Likely survives.')\n",
    "else:\n",
    "    print('Likely dies.')"
   ]
  },
  {
   "cell_type": "markdown",
   "metadata": {},
   "source": [
    "To see that the parameter of the minimum remaining effects the performance of the decision tree, we train a tree with different parameters and consider the performance."
   ]
  },
  {
   "cell_type": "code",
   "execution_count": 15,
   "metadata": {},
   "outputs": [
    {
     "name": "stdout",
     "output_type": "stream",
     "text": [
      "k = 10\n",
      "k = 20\n",
      "k = 30\n",
      "k = 40\n",
      "k = 50\n"
     ]
    },
    {
     "data": {
      "image/png": "[encoded data removed]",
      "text/plain": [
       "<Figure size 432x288 with 1 Axes>"
      ]
     },
     "metadata": {
      "needs_background": "light"
     },
     "output_type": "display_data"
    }
   ],
   "source": [
    "ratios = []\n",
    "\n",
    "# might take some time...\n",
    "for k in range(1, 51):\n",
    "    if k % 10 == 0:\n",
    "        print('k =', k)\n",
    "    root_2 = Node(training_data, k, separations)\n",
    "    root_2.train()\n",
    "    \n",
    "    corr = 0\n",
    "    n, d = np.shape(test_data)\n",
    "    for i in range(n):\n",
    "        if test_data[i, d-1] == root_2.classify(np.array(test_data[i, :d-1])):\n",
    "            corr += 1\n",
    "    \n",
    "    ratios.append(corr/n)\n",
    "\n",
    "x = [i for i in range(1, 51)]\n",
    "\n",
    "plt.plot(x, ratios, '-o')\n",
    "plt.xlabel('Minimum remaining Values')\n",
    "plt.ylabel('Correct classification Ratio')\n",
    "plt.show()"
   ]
  },
  {
   "cell_type": "markdown",
   "metadata": {},
   "source": [
    "## Random Forest\n",
    "\n",
    "Finally, we are going to implement a random decision tree forest. You can enter a number of $T$ trees to be grown,\n",
    "and the size $n$ of the training data used of each tree.\n",
    "\n",
    "Then, $T$ trees are consequtively trained using randomly chosen $n$ samples out of the training data. For classification, we throw and element into every tree and then classify it to the most common class. \n",
    "\n",
    "Note that there is also a possibility to learn a weighted linear function or some even more complicated stuff. This however requires to have a second, final test set because the first test set is used for learning the weights."
   ]
  },
  {
   "cell_type": "code",
   "execution_count": 16,
   "metadata": {},
   "outputs": [
    {
     "name": "stdout",
     "output_type": "stream",
     "text": [
      "Enter the number of trees: 10\n",
      "Enter the number of minimum remaining values: 100\n",
      "Classified  129 out of  200 examples correctly 64.5 %\n"
     ]
    }
   ],
   "source": [
    "number_of_trees = int(input('Enter the number of trees: '))\n",
    "# training_size_ratio = input('Enter the size of the training sets (0.5 mean half of the original set): ')\n",
    "# training_size = int(float(training_size_ratio) * np.shape(training_data)[0])\n",
    "training_size = np.shape(training_data)[0] // number_of_trees\n",
    "min_rem_values = int(input('Enter the number of minimum remaining values: '))\n",
    "\n",
    "n, d = np.shape(training_data)\n",
    "\n",
    "roots = []\n",
    "for i in range(number_of_trees):\n",
    "    training_data_prime = training_data.copy()\n",
    "    # Attention: split_data takes the size of the test set!\n",
    "    training_data_prime, _ = split_data(training_data_prime, n - training_size)\n",
    "    \n",
    "    roots.append(Node(training_data_prime, min_rem_values, separations))\n",
    "    roots[-1].train()\n",
    "\n",
    "# classify everything\n",
    "cfications = []\n",
    "\n",
    "n, d = np.shape(test_data)\n",
    "\n",
    "for i in range(n):\n",
    "    score = 0\n",
    "    for root in roots:\n",
    "        score += root.classify(np.array(test_data[i, :d-1]))\n",
    "    score /= number_of_trees\n",
    "    if score <= 0.5:\n",
    "        cfications.append(0)\n",
    "    else:\n",
    "        cfications.append(1)\n",
    "\n",
    "# check the performance\n",
    "corr = 0\n",
    "for i in range(n):\n",
    "    if cfications[i] == test_data[i, d-1]:\n",
    "        corr += 1\n",
    "\n",
    "print ('Classified ', corr, 'out of ', n, 'examples correctly', 100*corr/n,'%')"
   ]
  }
 ],
 "metadata": {
  "kernelspec": {
   "display_name": "Python 3",
   "language": "python",
   "name": "python3"
  },
  "language_info": {
   "codemirror_mode": {
    "name": "ipython",
    "version": 3
   },
   "file_extension": ".py",
   "mimetype": "text/x-python",
   "name": "python",
   "nbconvert_exporter": "python",
   "pygments_lexer": "ipython3",
   "version": "3.7.4"
  }
 },
 "nbformat": 4,
 "nbformat_minor": 2
}
